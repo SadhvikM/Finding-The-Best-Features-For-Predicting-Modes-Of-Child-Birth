{
  "cells": [
    {
      "cell_type": "code",
      "execution_count": null,
      "metadata": {
        "colab": {
          "base_uri": "https://localhost:8080/"
        },
        "id": "hOM5SLIC4Lku",
        "outputId": "10cba62e-b659-41e1-ed22-d532a9a15af0"
      },
      "outputs": [
        {
          "output_type": "stream",
          "name": "stdout",
          "text": [
            "Mounted at /content/drive\n"
          ]
        }
      ],
      "source": [
        "from google.colab import drive\n",
        "drive.mount('/content/drive',force_remount=True)"
      ]
    },
    {
      "cell_type": "markdown",
      "metadata": {
        "id": "l_rkvx6UXJEp"
      },
      "source": [
        "### Read the datasets"
      ]
    },
    {
      "cell_type": "code",
      "execution_count": null,
      "metadata": {
        "id": "SaJgMcHd5KQs"
      },
      "outputs": [],
      "source": [
        "import pandas\n",
        "ha_df = pandas.read_csv(\"/content/drive/My Drive/datasets/ha.csv\")\n",
        "hb_df = pandas.read_csv(\"/content/drive/My Drive/datasets/hb.csv\")\n",
        "hc_df = pandas.read_csv(\"/content/drive/My Drive/datasets/hc.csv\")\n",
        "hd_df = pandas.read_csv(\"/content/drive/My Drive/datasets/hd.csv\")"
      ]
    },
    {
      "cell_type": "code",
      "execution_count": null,
      "metadata": {
        "colab": {
          "base_uri": "https://localhost:8080/"
        },
        "id": "K8jOHixCTMhW",
        "outputId": "0fec4505-2ff3-40ff-be4b-538b49b89af8"
      },
      "outputs": [
        {
          "output_type": "stream",
          "name": "stdout",
          "text": [
            "<class 'pandas.core.frame.DataFrame'>\n",
            "RangeIndex: 1923 entries, 0 to 1922\n",
            "Columns: 145 entries, AGE to FETUS1MECONIUMASPIRATIONSYNDROME\n",
            "dtypes: float64(13), int64(8), object(124)\n",
            "memory usage: 2.1+ MB\n"
          ]
        }
      ],
      "source": [
        "ha_df.info()"
      ]
    },
    {
      "cell_type": "code",
      "execution_count": null,
      "metadata": {
        "colab": {
          "base_uri": "https://localhost:8080/"
        },
        "id": "Za0-BOML62rd",
        "outputId": "197d214d-08b4-4b75-bd44-0b8159ee3c41"
      },
      "outputs": [
        {
          "output_type": "stream",
          "name": "stdout",
          "text": [
            "<class 'pandas.core.frame.DataFrame'>\n",
            "RangeIndex: 893 entries, 0 to 892\n",
            "Columns: 145 entries, AGE to FETUS1MECONIUMASPIRATIONSYNDROME\n",
            "dtypes: float64(38), int64(9), object(98)\n",
            "memory usage: 1011.7+ KB\n"
          ]
        }
      ],
      "source": [
        "hb_df.info()"
      ]
    },
    {
      "cell_type": "code",
      "execution_count": null,
      "metadata": {
        "colab": {
          "base_uri": "https://localhost:8080/"
        },
        "id": "GCJp_iqfEqxx",
        "outputId": "ac0916bf-e037-4f80-ebfb-7ba525d3cc8b"
      },
      "outputs": [
        {
          "output_type": "stream",
          "name": "stdout",
          "text": [
            "<class 'pandas.core.frame.DataFrame'>\n",
            "RangeIndex: 2458 entries, 0 to 2457\n",
            "Columns: 145 entries, AGE to FETUS1MECONIUMASPIRATIONSYNDROME\n",
            "dtypes: float64(22), int64(9), object(114)\n",
            "memory usage: 2.7+ MB\n"
          ]
        }
      ],
      "source": [
        "hc_df.info()"
      ]
    },
    {
      "cell_type": "code",
      "execution_count": null,
      "metadata": {
        "colab": {
          "base_uri": "https://localhost:8080/"
        },
        "id": "l5erzeuOEwRB",
        "outputId": "de16a6dd-af09-451d-af67-483063c22d42"
      },
      "outputs": [
        {
          "output_type": "stream",
          "name": "stdout",
          "text": [
            "<class 'pandas.core.frame.DataFrame'>\n",
            "RangeIndex: 883 entries, 0 to 882\n",
            "Columns: 145 entries, AGE to FETUS1MECONIUMASPIRATIONSYNDROME\n",
            "dtypes: float64(42), int64(13), object(90)\n",
            "memory usage: 1000.4+ KB\n"
          ]
        }
      ],
      "source": [
        "hd_df.info()"
      ]
    },
    {
      "cell_type": "markdown",
      "metadata": {
        "id": "Lc8HxhmZXb7X"
      },
      "source": [
        "### Concatenating the datasets"
      ]
    },
    {
      "cell_type": "code",
      "execution_count": null,
      "metadata": {
        "colab": {
          "base_uri": "https://localhost:8080/",
          "height": 488
        },
        "id": "o-EEI5yS1SYQ",
        "outputId": "74d3c84b-ea4c-461d-c1e9-bad510b511db"
      },
      "outputs": [
        {
          "output_type": "execute_result",
          "data": {
            "text/plain": [
              "      AGE COUPLESITUATION  HEIGHT  WEIGHT    BMI COUNTRYOFORIGYN  \\\n",
              "0      30      withcouple    1.58    70.0  28.04           CHILE   \n",
              "1      38      withcouple    1.61    79.0  30.48          ESPAÑA   \n",
              "2      25      withcouple    1.56    72.0  29.59        COLOMBIA   \n",
              "3      31      withcouple    1.62    54.0  20.58          ESPAÑA   \n",
              "4      28      withcouple    1.47    51.0  23.60          ESPAÑA   \n",
              "...   ...             ...     ...     ...    ...             ...   \n",
              "6152   35      withcouple    1.56    49.0  20.00          ESPAÑA   \n",
              "6153   29      withcouple    1.64    59.0  21.51          ESPAÑA   \n",
              "6154   39      withcouple    1.59    64.0  20.00          ESPAÑA   \n",
              "6155   41      withcouple    1.48    50.0  23.28          ESPAÑA   \n",
              "6156   32      withcouple    1.65    75.2  24.00         ARGELIA   \n",
              "\n",
              "     MATERNALEDUCATION STARTANTENATALCARRE SUBSTANCEABUSE SMOKING  ...  \\\n",
              "0            secondary         1ºtrimester              f       f  ...   \n",
              "1            secondary         1ºtrimester              f       f  ...   \n",
              "2            secondary         1ºtrimester              f       f  ...   \n",
              "3            secondary         1ºtrimester              f       f  ...   \n",
              "4            secondary         1ºtrimester              f       f  ...   \n",
              "...                ...                 ...            ...     ...  ...   \n",
              "6152         secondary         1ºtrimester              f       f  ...   \n",
              "6153         secondary         1ºtrimester              f       f  ...   \n",
              "6154         secondary         1ºtrimester              f       f  ...   \n",
              "6155           primary         1ºtrimester              f       f  ...   \n",
              "6156       Sinestudios         1ºtrimester              f       f  ...   \n",
              "\n",
              "      HEMATOMALDRAINAGE INTRAPARTUMpHvalue  sexfetus1  weightfetus1  \\\n",
              "0                   NaN                NaN  Masculino          2640   \n",
              "1                   NaN                NaN   Femenino          3040   \n",
              "2                   NaN                NaN   Femenino          3820   \n",
              "3                   NaN                NaN   Femenino          3390   \n",
              "4                   NaN                NaN  Masculino          3020   \n",
              "...                 ...                ...        ...           ...   \n",
              "6152               1960                 10         10          7.27   \n",
              "6153               3310                  9         10   DESCONOCIDO   \n",
              "6154               3830                  8          9   DESCONOCIDO   \n",
              "6155               2810                 10         10   DESCONOCIDO   \n",
              "6156               3160                 10         10   DESCONOCIDO   \n",
              "\n",
              "     apgarfetus1 apgarfetus1fivemin pHvaluefetus1umbilicalarthery  \\\n",
              "0              7                  9                          7.34   \n",
              "1              8                  9                          7.26   \n",
              "2             10                 10                          7.21   \n",
              "3              9                 10                          7.21   \n",
              "4              8                  9                          7.17   \n",
              "...          ...                ...                           ...   \n",
              "6152           f                NaN                             f   \n",
              "6153           f                NaN                             f   \n",
              "6154           f                NaN                             f   \n",
              "6155           f                NaN                             f   \n",
              "6156           f                NaN                             f   \n",
              "\n",
              "     FETUS1ADMISSIONICU            FETUS1RECOVERY  \\\n",
              "0                     f  1:Aspiraciónnasofaríngea   \n",
              "1                     f               0:noprecisa   \n",
              "2                     f               0:noprecisa   \n",
              "3                     f               0:noprecisa   \n",
              "4                     f               0:noprecisa   \n",
              "...                 ...                       ...   \n",
              "6152                NaN                       NaN   \n",
              "6153                NaN                       NaN   \n",
              "6154                NaN                       NaN   \n",
              "6155                NaN                       NaN   \n",
              "6156                NaN                       NaN   \n",
              "\n",
              "     FETUS1MECONIUMASPIRATIONSYNDROME  \n",
              "0                                   f  \n",
              "1                                   f  \n",
              "2                                   f  \n",
              "3                                   f  \n",
              "4                                   f  \n",
              "...                               ...  \n",
              "6152                              NaN  \n",
              "6153                              NaN  \n",
              "6154                              NaN  \n",
              "6155                              NaN  \n",
              "6156                              NaN  \n",
              "\n",
              "[6157 rows x 145 columns]"
            ],
            "text/html": [
              "\n",
              "  <div id=\"df-58b9ecd5-4861-48d1-8690-f9d05f05a6fa\">\n",
              "    <div class=\"colab-df-container\">\n",
              "      <div>\n",
              "<style scoped>\n",
              "    .dataframe tbody tr th:only-of-type {\n",
              "        vertical-align: middle;\n",
              "    }\n",
              "\n",
              "    .dataframe tbody tr th {\n",
              "        vertical-align: top;\n",
              "    }\n",
              "\n",
              "    .dataframe thead th {\n",
              "        text-align: right;\n",
              "    }\n",
              "</style>\n",
              "<table border=\"1\" class=\"dataframe\">\n",
              "  <thead>\n",
              "    <tr style=\"text-align: right;\">\n",
              "      <th></th>\n",
              "      <th>AGE</th>\n",
              "      <th>COUPLESITUATION</th>\n",
              "      <th>HEIGHT</th>\n",
              "      <th>WEIGHT</th>\n",
              "      <th>BMI</th>\n",
              "      <th>COUNTRYOFORIGYN</th>\n",
              "      <th>MATERNALEDUCATION</th>\n",
              "      <th>STARTANTENATALCARRE</th>\n",
              "      <th>SUBSTANCEABUSE</th>\n",
              "      <th>SMOKING</th>\n",
              "      <th>...</th>\n",
              "      <th>HEMATOMALDRAINAGE</th>\n",
              "      <th>INTRAPARTUMpHvalue</th>\n",
              "      <th>sexfetus1</th>\n",
              "      <th>weightfetus1</th>\n",
              "      <th>apgarfetus1</th>\n",
              "      <th>apgarfetus1fivemin</th>\n",
              "      <th>pHvaluefetus1umbilicalarthery</th>\n",
              "      <th>FETUS1ADMISSIONICU</th>\n",
              "      <th>FETUS1RECOVERY</th>\n",
              "      <th>FETUS1MECONIUMASPIRATIONSYNDROME</th>\n",
              "    </tr>\n",
              "  </thead>\n",
              "  <tbody>\n",
              "    <tr>\n",
              "      <th>0</th>\n",
              "      <td>30</td>\n",
              "      <td>withcouple</td>\n",
              "      <td>1.58</td>\n",
              "      <td>70.0</td>\n",
              "      <td>28.04</td>\n",
              "      <td>CHILE</td>\n",
              "      <td>secondary</td>\n",
              "      <td>1ºtrimester</td>\n",
              "      <td>f</td>\n",
              "      <td>f</td>\n",
              "      <td>...</td>\n",
              "      <td>NaN</td>\n",
              "      <td>NaN</td>\n",
              "      <td>Masculino</td>\n",
              "      <td>2640</td>\n",
              "      <td>7</td>\n",
              "      <td>9</td>\n",
              "      <td>7.34</td>\n",
              "      <td>f</td>\n",
              "      <td>1:Aspiraciónnasofaríngea</td>\n",
              "      <td>f</td>\n",
              "    </tr>\n",
              "    <tr>\n",
              "      <th>1</th>\n",
              "      <td>38</td>\n",
              "      <td>withcouple</td>\n",
              "      <td>1.61</td>\n",
              "      <td>79.0</td>\n",
              "      <td>30.48</td>\n",
              "      <td>ESPAÑA</td>\n",
              "      <td>secondary</td>\n",
              "      <td>1ºtrimester</td>\n",
              "      <td>f</td>\n",
              "      <td>f</td>\n",
              "      <td>...</td>\n",
              "      <td>NaN</td>\n",
              "      <td>NaN</td>\n",
              "      <td>Femenino</td>\n",
              "      <td>3040</td>\n",
              "      <td>8</td>\n",
              "      <td>9</td>\n",
              "      <td>7.26</td>\n",
              "      <td>f</td>\n",
              "      <td>0:noprecisa</td>\n",
              "      <td>f</td>\n",
              "    </tr>\n",
              "    <tr>\n",
              "      <th>2</th>\n",
              "      <td>25</td>\n",
              "      <td>withcouple</td>\n",
              "      <td>1.56</td>\n",
              "      <td>72.0</td>\n",
              "      <td>29.59</td>\n",
              "      <td>COLOMBIA</td>\n",
              "      <td>secondary</td>\n",
              "      <td>1ºtrimester</td>\n",
              "      <td>f</td>\n",
              "      <td>f</td>\n",
              "      <td>...</td>\n",
              "      <td>NaN</td>\n",
              "      <td>NaN</td>\n",
              "      <td>Femenino</td>\n",
              "      <td>3820</td>\n",
              "      <td>10</td>\n",
              "      <td>10</td>\n",
              "      <td>7.21</td>\n",
              "      <td>f</td>\n",
              "      <td>0:noprecisa</td>\n",
              "      <td>f</td>\n",
              "    </tr>\n",
              "    <tr>\n",
              "      <th>3</th>\n",
              "      <td>31</td>\n",
              "      <td>withcouple</td>\n",
              "      <td>1.62</td>\n",
              "      <td>54.0</td>\n",
              "      <td>20.58</td>\n",
              "      <td>ESPAÑA</td>\n",
              "      <td>secondary</td>\n",
              "      <td>1ºtrimester</td>\n",
              "      <td>f</td>\n",
              "      <td>f</td>\n",
              "      <td>...</td>\n",
              "      <td>NaN</td>\n",
              "      <td>NaN</td>\n",
              "      <td>Femenino</td>\n",
              "      <td>3390</td>\n",
              "      <td>9</td>\n",
              "      <td>10</td>\n",
              "      <td>7.21</td>\n",
              "      <td>f</td>\n",
              "      <td>0:noprecisa</td>\n",
              "      <td>f</td>\n",
              "    </tr>\n",
              "    <tr>\n",
              "      <th>4</th>\n",
              "      <td>28</td>\n",
              "      <td>withcouple</td>\n",
              "      <td>1.47</td>\n",
              "      <td>51.0</td>\n",
              "      <td>23.60</td>\n",
              "      <td>ESPAÑA</td>\n",
              "      <td>secondary</td>\n",
              "      <td>1ºtrimester</td>\n",
              "      <td>f</td>\n",
              "      <td>f</td>\n",
              "      <td>...</td>\n",
              "      <td>NaN</td>\n",
              "      <td>NaN</td>\n",
              "      <td>Masculino</td>\n",
              "      <td>3020</td>\n",
              "      <td>8</td>\n",
              "      <td>9</td>\n",
              "      <td>7.17</td>\n",
              "      <td>f</td>\n",
              "      <td>0:noprecisa</td>\n",
              "      <td>f</td>\n",
              "    </tr>\n",
              "    <tr>\n",
              "      <th>...</th>\n",
              "      <td>...</td>\n",
              "      <td>...</td>\n",
              "      <td>...</td>\n",
              "      <td>...</td>\n",
              "      <td>...</td>\n",
              "      <td>...</td>\n",
              "      <td>...</td>\n",
              "      <td>...</td>\n",
              "      <td>...</td>\n",
              "      <td>...</td>\n",
              "      <td>...</td>\n",
              "      <td>...</td>\n",
              "      <td>...</td>\n",
              "      <td>...</td>\n",
              "      <td>...</td>\n",
              "      <td>...</td>\n",
              "      <td>...</td>\n",
              "      <td>...</td>\n",
              "      <td>...</td>\n",
              "      <td>...</td>\n",
              "      <td>...</td>\n",
              "    </tr>\n",
              "    <tr>\n",
              "      <th>6152</th>\n",
              "      <td>35</td>\n",
              "      <td>withcouple</td>\n",
              "      <td>1.56</td>\n",
              "      <td>49.0</td>\n",
              "      <td>20.00</td>\n",
              "      <td>ESPAÑA</td>\n",
              "      <td>secondary</td>\n",
              "      <td>1ºtrimester</td>\n",
              "      <td>f</td>\n",
              "      <td>f</td>\n",
              "      <td>...</td>\n",
              "      <td>1960</td>\n",
              "      <td>10</td>\n",
              "      <td>10</td>\n",
              "      <td>7.27</td>\n",
              "      <td>f</td>\n",
              "      <td>NaN</td>\n",
              "      <td>f</td>\n",
              "      <td>NaN</td>\n",
              "      <td>NaN</td>\n",
              "      <td>NaN</td>\n",
              "    </tr>\n",
              "    <tr>\n",
              "      <th>6153</th>\n",
              "      <td>29</td>\n",
              "      <td>withcouple</td>\n",
              "      <td>1.64</td>\n",
              "      <td>59.0</td>\n",
              "      <td>21.51</td>\n",
              "      <td>ESPAÑA</td>\n",
              "      <td>secondary</td>\n",
              "      <td>1ºtrimester</td>\n",
              "      <td>f</td>\n",
              "      <td>f</td>\n",
              "      <td>...</td>\n",
              "      <td>3310</td>\n",
              "      <td>9</td>\n",
              "      <td>10</td>\n",
              "      <td>DESCONOCIDO</td>\n",
              "      <td>f</td>\n",
              "      <td>NaN</td>\n",
              "      <td>f</td>\n",
              "      <td>NaN</td>\n",
              "      <td>NaN</td>\n",
              "      <td>NaN</td>\n",
              "    </tr>\n",
              "    <tr>\n",
              "      <th>6154</th>\n",
              "      <td>39</td>\n",
              "      <td>withcouple</td>\n",
              "      <td>1.59</td>\n",
              "      <td>64.0</td>\n",
              "      <td>20.00</td>\n",
              "      <td>ESPAÑA</td>\n",
              "      <td>secondary</td>\n",
              "      <td>1ºtrimester</td>\n",
              "      <td>f</td>\n",
              "      <td>f</td>\n",
              "      <td>...</td>\n",
              "      <td>3830</td>\n",
              "      <td>8</td>\n",
              "      <td>9</td>\n",
              "      <td>DESCONOCIDO</td>\n",
              "      <td>f</td>\n",
              "      <td>NaN</td>\n",
              "      <td>f</td>\n",
              "      <td>NaN</td>\n",
              "      <td>NaN</td>\n",
              "      <td>NaN</td>\n",
              "    </tr>\n",
              "    <tr>\n",
              "      <th>6155</th>\n",
              "      <td>41</td>\n",
              "      <td>withcouple</td>\n",
              "      <td>1.48</td>\n",
              "      <td>50.0</td>\n",
              "      <td>23.28</td>\n",
              "      <td>ESPAÑA</td>\n",
              "      <td>primary</td>\n",
              "      <td>1ºtrimester</td>\n",
              "      <td>f</td>\n",
              "      <td>f</td>\n",
              "      <td>...</td>\n",
              "      <td>2810</td>\n",
              "      <td>10</td>\n",
              "      <td>10</td>\n",
              "      <td>DESCONOCIDO</td>\n",
              "      <td>f</td>\n",
              "      <td>NaN</td>\n",
              "      <td>f</td>\n",
              "      <td>NaN</td>\n",
              "      <td>NaN</td>\n",
              "      <td>NaN</td>\n",
              "    </tr>\n",
              "    <tr>\n",
              "      <th>6156</th>\n",
              "      <td>32</td>\n",
              "      <td>withcouple</td>\n",
              "      <td>1.65</td>\n",
              "      <td>75.2</td>\n",
              "      <td>24.00</td>\n",
              "      <td>ARGELIA</td>\n",
              "      <td>Sinestudios</td>\n",
              "      <td>1ºtrimester</td>\n",
              "      <td>f</td>\n",
              "      <td>f</td>\n",
              "      <td>...</td>\n",
              "      <td>3160</td>\n",
              "      <td>10</td>\n",
              "      <td>10</td>\n",
              "      <td>DESCONOCIDO</td>\n",
              "      <td>f</td>\n",
              "      <td>NaN</td>\n",
              "      <td>f</td>\n",
              "      <td>NaN</td>\n",
              "      <td>NaN</td>\n",
              "      <td>NaN</td>\n",
              "    </tr>\n",
              "  </tbody>\n",
              "</table>\n",
              "<p>6157 rows × 145 columns</p>\n",
              "</div>\n",
              "      <button class=\"colab-df-convert\" onclick=\"convertToInteractive('df-58b9ecd5-4861-48d1-8690-f9d05f05a6fa')\"\n",
              "              title=\"Convert this dataframe to an interactive table.\"\n",
              "              style=\"display:none;\">\n",
              "        \n",
              "  <svg xmlns=\"http://www.w3.org/2000/svg\" height=\"24px\"viewBox=\"0 0 24 24\"\n",
              "       width=\"24px\">\n",
              "    <path d=\"M0 0h24v24H0V0z\" fill=\"none\"/>\n",
              "    <path d=\"M18.56 5.44l.94 2.06.94-2.06 2.06-.94-2.06-.94-.94-2.06-.94 2.06-2.06.94zm-11 1L8.5 8.5l.94-2.06 2.06-.94-2.06-.94L8.5 2.5l-.94 2.06-2.06.94zm10 10l.94 2.06.94-2.06 2.06-.94-2.06-.94-.94-2.06-.94 2.06-2.06.94z\"/><path d=\"M17.41 7.96l-1.37-1.37c-.4-.4-.92-.59-1.43-.59-.52 0-1.04.2-1.43.59L10.3 9.45l-7.72 7.72c-.78.78-.78 2.05 0 2.83L4 21.41c.39.39.9.59 1.41.59.51 0 1.02-.2 1.41-.59l7.78-7.78 2.81-2.81c.8-.78.8-2.07 0-2.86zM5.41 20L4 18.59l7.72-7.72 1.47 1.35L5.41 20z\"/>\n",
              "  </svg>\n",
              "      </button>\n",
              "      \n",
              "  <style>\n",
              "    .colab-df-container {\n",
              "      display:flex;\n",
              "      flex-wrap:wrap;\n",
              "      gap: 12px;\n",
              "    }\n",
              "\n",
              "    .colab-df-convert {\n",
              "      background-color: #E8F0FE;\n",
              "      border: none;\n",
              "      border-radius: 50%;\n",
              "      cursor: pointer;\n",
              "      display: none;\n",
              "      fill: #1967D2;\n",
              "      height: 32px;\n",
              "      padding: 0 0 0 0;\n",
              "      width: 32px;\n",
              "    }\n",
              "\n",
              "    .colab-df-convert:hover {\n",
              "      background-color: #E2EBFA;\n",
              "      box-shadow: 0px 1px 2px rgba(60, 64, 67, 0.3), 0px 1px 3px 1px rgba(60, 64, 67, 0.15);\n",
              "      fill: #174EA6;\n",
              "    }\n",
              "\n",
              "    [theme=dark] .colab-df-convert {\n",
              "      background-color: #3B4455;\n",
              "      fill: #D2E3FC;\n",
              "    }\n",
              "\n",
              "    [theme=dark] .colab-df-convert:hover {\n",
              "      background-color: #434B5C;\n",
              "      box-shadow: 0px 1px 3px 1px rgba(0, 0, 0, 0.15);\n",
              "      filter: drop-shadow(0px 1px 2px rgba(0, 0, 0, 0.3));\n",
              "      fill: #FFFFFF;\n",
              "    }\n",
              "  </style>\n",
              "\n",
              "      <script>\n",
              "        const buttonEl =\n",
              "          document.querySelector('#df-58b9ecd5-4861-48d1-8690-f9d05f05a6fa button.colab-df-convert');\n",
              "        buttonEl.style.display =\n",
              "          google.colab.kernel.accessAllowed ? 'block' : 'none';\n",
              "\n",
              "        async function convertToInteractive(key) {\n",
              "          const element = document.querySelector('#df-58b9ecd5-4861-48d1-8690-f9d05f05a6fa');\n",
              "          const dataTable =\n",
              "            await google.colab.kernel.invokeFunction('convertToInteractive',\n",
              "                                                     [key], {});\n",
              "          if (!dataTable) return;\n",
              "\n",
              "          const docLinkHtml = 'Like what you see? Visit the ' +\n",
              "            '<a target=\"_blank\" href=https://colab.research.google.com/notebooks/data_table.ipynb>data table notebook</a>'\n",
              "            + ' to learn more about interactive tables.';\n",
              "          element.innerHTML = '';\n",
              "          dataTable['output_type'] = 'display_data';\n",
              "          await google.colab.output.renderOutput(dataTable, element);\n",
              "          const docLink = document.createElement('div');\n",
              "          docLink.innerHTML = docLinkHtml;\n",
              "          element.appendChild(docLink);\n",
              "        }\n",
              "      </script>\n",
              "    </div>\n",
              "  </div>\n",
              "  "
            ]
          },
          "metadata": {},
          "execution_count": 7
        }
      ],
      "source": [
        "c_df = pandas.concat([ha_df, hb_df, hc_df, hd_df], ignore_index=True)\n",
        "c_df"
      ]
    },
    {
      "cell_type": "markdown",
      "metadata": {
        "id": "y7eQlb10XlXw"
      },
      "source": [
        "### Information of the concatenated dataset"
      ]
    },
    {
      "cell_type": "code",
      "execution_count": null,
      "metadata": {
        "colab": {
          "base_uri": "https://localhost:8080/"
        },
        "id": "uMLAcbCF4iXq",
        "outputId": "03805ee2-576c-45c6-97db-3d64c8f614dc"
      },
      "outputs": [
        {
          "output_type": "stream",
          "name": "stdout",
          "text": [
            "<class 'pandas.core.frame.DataFrame'>\n",
            "RangeIndex: 6157 entries, 0 to 6156\n",
            "Data columns (total 145 columns):\n",
            " #    Column                                  Dtype  \n",
            "---   ------                                  -----  \n",
            " 0    AGE                                     int64  \n",
            " 1    COUPLESITUATION                         object \n",
            " 2    HEIGHT                                  float64\n",
            " 3    WEIGHT                                  float64\n",
            " 4    BMI                                     float64\n",
            " 5    COUNTRYOFORIGYN                         object \n",
            " 6    MATERNALEDUCATION                       object \n",
            " 7    STARTANTENATALCARRE                     object \n",
            " 8    SUBSTANCEABUSE                          object \n",
            " 9    SMOKING                                 object \n",
            " 10   CIGARRETTESPERDAY                       float64\n",
            " 11   ALCOHOL                                 object \n",
            " 12   DAILYALCOHOLINTAKE                      object \n",
            " 13   KGINCREASEDPREGNANCY                    int64  \n",
            " 14   ART                                     object \n",
            " 15   ARTMODE                                 object \n",
            " 16   AMNIOCENTESIS                           object \n",
            " 17   PREVIOUSCESAREAN                        object \n",
            " 18   NUMBEROFPREVCESAREAN                    float64\n",
            " 19   COMORBIDITY                             object \n",
            " 20   OBSTETRICRISK                           object \n",
            " 21   PREVIOUSTERMPREGNANCIES                 int64  \n",
            " 22   PREVIOUSPRETERMPREGNANCIES              int64  \n",
            " 23   MISCARRIAGES                            int64  \n",
            " 24   ALIVENEWBORNS                           int64  \n",
            " 25   PARITY                                  int64  \n",
            " 26   PREINDUCTION                            object \n",
            " 27   INDUCTION                               object \n",
            " 28   HOURSROMBEFOREINDUCTION                 object \n",
            " 29   ANESTHESIA                              object \n",
            " 30   HOURSOFRUPTUREDMEMBRANESATDELIVERY      object \n",
            " 31   GESTAGIONALAGE                          int64  \n",
            " 32   CARDIOTOCOGRAPHY                        object \n",
            " 33   TYPEOFBIRTH                             object \n",
            " 34   EPISIOTOMY                              object \n",
            " 35   TEAR                                    object \n",
            " 36   MEDICALINDICATION                       object \n",
            " 37   EMERGENCYCESAREANSECTION                object \n",
            " 38   PROGRAMMEDCESAREANSECTION               object \n",
            " 39   OXYTOCIN                                object \n",
            " 40   AMNIOTICLIQUID                          object \n",
            " 41   FetalINTRAPARTUMpH                      object \n",
            " 42   COMPLICATIONS                           object \n",
            " 43   ROBSONGROUP                             object \n",
            " 44   CESAREANINACCORDANCETOCLINICALSTANDARD  object \n",
            " 45   COLESTASISGRAVIDICA                     object \n",
            " 46   CORIONAMNIONITIS                        object \n",
            " 47   NONIDGESTATIONALDIABETES                object \n",
            " 48   IDGESTATIONALDIABETES                   object \n",
            " 49   PROLONGEDPREGNANACY                     object \n",
            " 50   MULTIPLEGESTATION                       object \n",
            " 51   HELLP                                   object \n",
            " 52   GESTATIONALHYPERTENSION                 object \n",
            " 53   ISOINMUNIZACION                         object \n",
            " 54   STAINEDAMNIOTICLIQUOR                   object \n",
            " 55   FETALMALFORMATION                       object \n",
            " 56   UTERINEMALFORMATION                     object \n",
            " 57   FETALMALPOSITION                        object \n",
            " 58   MIOMECTOMY                              object \n",
            " 59   OLIGOAMNIOS                             object \n",
            " 60   PREVIOUSPRETERMDELIVERY                 object \n",
            " 61   PLACENTAPREVIA                          object \n",
            " 62   POLIHIDRAMNIOS                          object \n",
            " 63   SEVEREPREECLAMPSIA                      object \n",
            " 64   MILDPREECLAMPSIA                        object \n",
            " 65   PROM                                    object \n",
            " 66   SIFILIS                                 object \n",
            " 67   TOXOPLASMOSIS                           object \n",
            " 68   REPEATEDMISCARRIAGES                    object \n",
            " 69   PREVIOUSFETALLOSSES                     object \n",
            " 70   ANTEPARTUMLOSSOFFETALWELLBEEING         object \n",
            " 71   MATERNALANEMIA                          object \n",
            " 72   ASTHMA                                  object \n",
            " 73   CARDIACDISEASE                          object \n",
            " 74   Coagulopathy                            object \n",
            " 75   PREGESTATIONALTYPEIDIABETES             object \n",
            " 76   PREGESTATIONALTYPEIIDIABETES            object \n",
            " 77   AUTOINMUNEDISEASEINTREATMENT            object \n",
            " 78   EPILEPSYINTREATMENT                     object \n",
            " 79   MENTALDISEASEINTREATMENT                object \n",
            " 80   NEUROLOGICALDISEASEINTREATMENT          object \n",
            " 81   RENALDISEASEINTREATMENT                 object \n",
            " 82   Hemiplegia                              object \n",
            " 83   LIVERDISEASEINTREATMENT                 object \n",
            " 84   HIPERTHYROIDISMINTREATMENT              object \n",
            " 85   HIPOTHYROIDISMINTREATMENT               object \n",
            " 86   HIV+                                    object \n",
            " 87   CHRONICHYPERTENSION                     object \n",
            " 88   TIP                                     object \n",
            " 89   MALIGNANTTUMOR                          object \n",
            " 90   HVC+                                    object \n",
            " 91   HVB+                                    object \n",
            " 92   CORIONICBIOPSY                          object \n",
            " 93   Cordocentesis                           float64\n",
            " 94   Cannabis                                object \n",
            " 95   COCCAINE                                object \n",
            " 96   Heroin                                  object \n",
            " 97   others                                  object \n",
            " 98   IUGR                                    object \n",
            " 99   Colestasis                              object \n",
            " 100  Diabetes                                object \n",
            " 101  ABNORMALDOPPLER                         object \n",
            " 102  ExitusFetal                             object \n",
            " 103  STAINEDAMNIOTICLIQUID                   object \n",
            " 104  NONCONFIDENTNST                         object \n",
            " 105  Oligoamnios                             object \n",
            " 106  MATERNALDISEASE                         object \n",
            " 107  SGD                                     object \n",
            " 108  Preeclampsia                            object \n",
            " 109  PROM.1                                  object \n",
            " 110  INITIALPROLONGEDPREGNANCY               object \n",
            " 111  OTHERS                                  object \n",
            " 112  LOC                                     object \n",
            " 113  REG                                     object \n",
            " 114  GEN                                     object \n",
            " 115  UTERINEATONY                            object \n",
            " 116  AMNIOTICLIQUIDEMBOLISM                  float64\n",
            " 117  PERINEALHEMATOMA                        object \n",
            " 118  UTERINEHAEMORRAGE                       object \n",
            " 119  INVERTEDUTERUS                          object \n",
            " 120  MATERNALDEATH                           object \n",
            " 121  RETAINEDPLACENTA                        object \n",
            " 122  UTERINERUPTURE                          object \n",
            " 123  PULMONARTHROMBOEMBOLISM                 object \n",
            " 124  DEEPVENOUSTHROMBOSIS                    object \n",
            " 125  SHOULDERDYSTOCIA                        object \n",
            " 126  TEARREPAIR                              object \n",
            " 127  MANUALEXTRACTIONOFPLACENTA              object \n",
            " 128  HISTERECTOMY                            object \n",
            " 129  POSTPARTUMCURETAGE                      object \n",
            " 130  REPOSITIONOFINVERTEDUTERUS              object \n",
            " 131  BLOODTRANSFUSION                        object \n",
            " 132  MEDICALTREATMENT                        object \n",
            " 133  MANUALASSITANCETOSHOULDERDYSTOCIA       object \n",
            " 134  ARTHERIALEMBOLIZATION                   object \n",
            " 135  HEMATOMALDRAINAGE                       object \n",
            " 136  INTRAPARTUMpHvalue                      object \n",
            " 137  sexfetus1                               object \n",
            " 138  weightfetus1                            object \n",
            " 139  apgarfetus1                             object \n",
            " 140  apgarfetus1fivemin                      object \n",
            " 141  pHvaluefetus1umbilicalarthery           object \n",
            " 142  FETUS1ADMISSIONICU                      object \n",
            " 143  FETUS1RECOVERY                          object \n",
            " 144  FETUS1MECONIUMASPIRATIONSYNDROME        object \n",
            "dtypes: float64(7), int64(8), object(130)\n",
            "memory usage: 6.8+ MB\n"
          ]
        }
      ],
      "source": [
        "c_df.info(145)"
      ]
    },
    {
      "cell_type": "markdown",
      "metadata": {
        "id": "UNwVtupJXtLp"
      },
      "source": [
        "### Checking missing values"
      ]
    },
    {
      "cell_type": "code",
      "execution_count": null,
      "metadata": {
        "colab": {
          "base_uri": "https://localhost:8080/"
        },
        "id": "1gi-qRy27Huk",
        "outputId": "ab8fb904-94e1-4b5a-e2ca-aa33c7bee619"
      },
      "outputs": [
        {
          "output_type": "execute_result",
          "data": {
            "text/plain": [
              "AGE                                    0\n",
              "COUPLESITUATION                        0\n",
              "HEIGHT                                 0\n",
              "WEIGHT                                 0\n",
              "BMI                                    0\n",
              "                                    ... \n",
              "apgarfetus1fivemin                  4219\n",
              "pHvaluefetus1umbilicalarthery          0\n",
              "FETUS1ADMISSIONICU                  4238\n",
              "FETUS1RECOVERY                      4235\n",
              "FETUS1MECONIUMASPIRATIONSYNDROME    4234\n",
              "Length: 145, dtype: int64"
            ]
          },
          "metadata": {},
          "execution_count": 9
        }
      ],
      "source": [
        "c_df.isnull().sum()"
      ]
    },
    {
      "cell_type": "markdown",
      "metadata": {
        "id": "zdLdh6e5Xwhd"
      },
      "source": [
        "### Class labels"
      ]
    },
    {
      "cell_type": "code",
      "execution_count": null,
      "metadata": {
        "colab": {
          "base_uri": "https://localhost:8080/"
        },
        "id": "LQ3FGHG1Bx7E",
        "outputId": "44c46e38-c7b9-4c54-a30f-bfb65bf7b887"
      },
      "outputs": [
        {
          "output_type": "execute_result",
          "data": {
            "text/plain": [
              "array(['emergencyc-section', 'CESprogrammed', 'EUT', 'vacum', 'FORC',\n",
              "       'ESP', 'NALGASVAGINAL'], dtype=object)"
            ]
          },
          "metadata": {},
          "execution_count": 10
        }
      ],
      "source": [
        "c_df.TYPEOFBIRTH.unique()"
      ]
    },
    {
      "cell_type": "code",
      "execution_count": null,
      "metadata": {
        "colab": {
          "base_uri": "https://localhost:8080/"
        },
        "id": "odoW3uOIoKL7",
        "outputId": "0204d548-3ec5-4524-af15-00c8d3460609"
      },
      "outputs": [
        {
          "output_type": "stream",
          "name": "stdout",
          "text": [
            "EUT : 4231\n",
            "FORC : 87\n",
            "NALGASVAGINAL : 8\n",
            "CESprogrammed : 325\n",
            "vacum : 770\n",
            "ESP : 44\n",
            "emergencyc-section : 692\n"
          ]
        }
      ],
      "source": [
        "a = c_df['TYPEOFBIRTH'].values.tolist()\n",
        "s = set(a)\n",
        "for x in s:\n",
        "  print(x,\":\",a.count(x))"
      ]
    },
    {
      "cell_type": "markdown",
      "metadata": {
        "id": "BS4T0vdSY12S"
      },
      "source": [
        "### Preprocessing"
      ]
    },
    {
      "cell_type": "markdown",
      "metadata": {
        "id": "uU8rJrckX5I-"
      },
      "source": [
        "### Dataset after feature extraction"
      ]
    },
    {
      "cell_type": "code",
      "execution_count": null,
      "metadata": {
        "id": "FRJXpVBRbv56"
      },
      "outputs": [],
      "source": [
        "l_df = c_df[['GESTAGIONALAGE','HEIGHT','WEIGHT','BMI','AGE','CARDIOTOCOGRAPHY','MATERNALEDUCATION','SUBSTANCEABUSE','SMOKING','ALCOHOL','TYPEOFBIRTH']]"
      ]
    },
    {
      "cell_type": "markdown",
      "metadata": {
        "id": "YOcaKD2NYCof"
      },
      "source": [
        "### Checking duplicates"
      ]
    },
    {
      "cell_type": "code",
      "execution_count": null,
      "metadata": {
        "colab": {
          "base_uri": "https://localhost:8080/"
        },
        "id": "_cfhoDULS6RV",
        "outputId": "c5ab4381-ac59-4c3c-cb8e-fb0ecd659fe1"
      },
      "outputs": [
        {
          "output_type": "execute_result",
          "data": {
            "text/plain": [
              "0       False\n",
              "1       False\n",
              "2       False\n",
              "3       False\n",
              "4       False\n",
              "        ...  \n",
              "6152    False\n",
              "6153    False\n",
              "6154    False\n",
              "6155    False\n",
              "6156    False\n",
              "Length: 6157, dtype: bool"
            ]
          },
          "metadata": {},
          "execution_count": 13
        }
      ],
      "source": [
        "l_df.duplicated()"
      ]
    },
    {
      "cell_type": "code",
      "execution_count": null,
      "metadata": {
        "colab": {
          "base_uri": "https://localhost:8080/"
        },
        "id": "2CDRRXamTPxH",
        "outputId": "53121349-74ea-445a-c95f-e490c3d97275"
      },
      "outputs": [
        {
          "output_type": "execute_result",
          "data": {
            "text/plain": [
              "55"
            ]
          },
          "metadata": {},
          "execution_count": 14
        }
      ],
      "source": [
        "l_df.duplicated().sum()"
      ]
    },
    {
      "cell_type": "markdown",
      "metadata": {
        "id": "KpKNWqUQYHDw"
      },
      "source": [
        "### Drop duplicate records"
      ]
    },
    {
      "cell_type": "code",
      "execution_count": null,
      "metadata": {
        "colab": {
          "base_uri": "https://localhost:8080/",
          "height": 424
        },
        "id": "-ujbRD9vVXIp",
        "outputId": "e03c74a3-51b2-4c62-e652-37b49d198c63"
      },
      "outputs": [
        {
          "output_type": "execute_result",
          "data": {
            "text/plain": [
              "      GESTAGIONALAGE  HEIGHT  WEIGHT    BMI  AGE CARDIOTOCOGRAPHY  \\\n",
              "0                 37    1.58    70.0  28.04   30       continuous   \n",
              "1                 38    1.61    79.0  30.48   38       continuous   \n",
              "2                 39    1.56    72.0  29.59   25       continuous   \n",
              "3                 40    1.62    54.0  20.58   31       continuous   \n",
              "4                 41    1.47    51.0  23.60   28       continuous   \n",
              "...              ...     ...     ...    ...  ...              ...   \n",
              "6152              35    1.56    49.0  20.00   35       continuous   \n",
              "6153              40    1.64    59.0  21.51   29       continuous   \n",
              "6154              39    1.59    64.0  20.00   39    discontinuous   \n",
              "6155              39    1.48    50.0  23.28   41       continuous   \n",
              "6156              38    1.65    75.2  24.00   32    discontinuous   \n",
              "\n",
              "     MATERNALEDUCATION SUBSTANCEABUSE SMOKING ALCOHOL         TYPEOFBIRTH  \n",
              "0            secondary              f       f       f  emergencyc-section  \n",
              "1            secondary              f       f       f       CESprogrammed  \n",
              "2            secondary              f       f       f                 EUT  \n",
              "3            secondary              f       f       f                 EUT  \n",
              "4            secondary              f       f       f                 EUT  \n",
              "...                ...            ...     ...     ...                 ...  \n",
              "6152         secondary              f       f       f                 EUT  \n",
              "6153         secondary              f       f       f                 EUT  \n",
              "6154         secondary              f       f       t                 EUT  \n",
              "6155           primary              f       f       f  emergencyc-section  \n",
              "6156       Sinestudios              f       f       f                 EUT  \n",
              "\n",
              "[6102 rows x 11 columns]"
            ],
            "text/html": [
              "\n",
              "  <div id=\"df-0baf32f0-98ac-4113-860a-ec220eed5fe3\">\n",
              "    <div class=\"colab-df-container\">\n",
              "      <div>\n",
              "<style scoped>\n",
              "    .dataframe tbody tr th:only-of-type {\n",
              "        vertical-align: middle;\n",
              "    }\n",
              "\n",
              "    .dataframe tbody tr th {\n",
              "        vertical-align: top;\n",
              "    }\n",
              "\n",
              "    .dataframe thead th {\n",
              "        text-align: right;\n",
              "    }\n",
              "</style>\n",
              "<table border=\"1\" class=\"dataframe\">\n",
              "  <thead>\n",
              "    <tr style=\"text-align: right;\">\n",
              "      <th></th>\n",
              "      <th>GESTAGIONALAGE</th>\n",
              "      <th>HEIGHT</th>\n",
              "      <th>WEIGHT</th>\n",
              "      <th>BMI</th>\n",
              "      <th>AGE</th>\n",
              "      <th>CARDIOTOCOGRAPHY</th>\n",
              "      <th>MATERNALEDUCATION</th>\n",
              "      <th>SUBSTANCEABUSE</th>\n",
              "      <th>SMOKING</th>\n",
              "      <th>ALCOHOL</th>\n",
              "      <th>TYPEOFBIRTH</th>\n",
              "    </tr>\n",
              "  </thead>\n",
              "  <tbody>\n",
              "    <tr>\n",
              "      <th>0</th>\n",
              "      <td>37</td>\n",
              "      <td>1.58</td>\n",
              "      <td>70.0</td>\n",
              "      <td>28.04</td>\n",
              "      <td>30</td>\n",
              "      <td>continuous</td>\n",
              "      <td>secondary</td>\n",
              "      <td>f</td>\n",
              "      <td>f</td>\n",
              "      <td>f</td>\n",
              "      <td>emergencyc-section</td>\n",
              "    </tr>\n",
              "    <tr>\n",
              "      <th>1</th>\n",
              "      <td>38</td>\n",
              "      <td>1.61</td>\n",
              "      <td>79.0</td>\n",
              "      <td>30.48</td>\n",
              "      <td>38</td>\n",
              "      <td>continuous</td>\n",
              "      <td>secondary</td>\n",
              "      <td>f</td>\n",
              "      <td>f</td>\n",
              "      <td>f</td>\n",
              "      <td>CESprogrammed</td>\n",
              "    </tr>\n",
              "    <tr>\n",
              "      <th>2</th>\n",
              "      <td>39</td>\n",
              "      <td>1.56</td>\n",
              "      <td>72.0</td>\n",
              "      <td>29.59</td>\n",
              "      <td>25</td>\n",
              "      <td>continuous</td>\n",
              "      <td>secondary</td>\n",
              "      <td>f</td>\n",
              "      <td>f</td>\n",
              "      <td>f</td>\n",
              "      <td>EUT</td>\n",
              "    </tr>\n",
              "    <tr>\n",
              "      <th>3</th>\n",
              "      <td>40</td>\n",
              "      <td>1.62</td>\n",
              "      <td>54.0</td>\n",
              "      <td>20.58</td>\n",
              "      <td>31</td>\n",
              "      <td>continuous</td>\n",
              "      <td>secondary</td>\n",
              "      <td>f</td>\n",
              "      <td>f</td>\n",
              "      <td>f</td>\n",
              "      <td>EUT</td>\n",
              "    </tr>\n",
              "    <tr>\n",
              "      <th>4</th>\n",
              "      <td>41</td>\n",
              "      <td>1.47</td>\n",
              "      <td>51.0</td>\n",
              "      <td>23.60</td>\n",
              "      <td>28</td>\n",
              "      <td>continuous</td>\n",
              "      <td>secondary</td>\n",
              "      <td>f</td>\n",
              "      <td>f</td>\n",
              "      <td>f</td>\n",
              "      <td>EUT</td>\n",
              "    </tr>\n",
              "    <tr>\n",
              "      <th>...</th>\n",
              "      <td>...</td>\n",
              "      <td>...</td>\n",
              "      <td>...</td>\n",
              "      <td>...</td>\n",
              "      <td>...</td>\n",
              "      <td>...</td>\n",
              "      <td>...</td>\n",
              "      <td>...</td>\n",
              "      <td>...</td>\n",
              "      <td>...</td>\n",
              "      <td>...</td>\n",
              "    </tr>\n",
              "    <tr>\n",
              "      <th>6152</th>\n",
              "      <td>35</td>\n",
              "      <td>1.56</td>\n",
              "      <td>49.0</td>\n",
              "      <td>20.00</td>\n",
              "      <td>35</td>\n",
              "      <td>continuous</td>\n",
              "      <td>secondary</td>\n",
              "      <td>f</td>\n",
              "      <td>f</td>\n",
              "      <td>f</td>\n",
              "      <td>EUT</td>\n",
              "    </tr>\n",
              "    <tr>\n",
              "      <th>6153</th>\n",
              "      <td>40</td>\n",
              "      <td>1.64</td>\n",
              "      <td>59.0</td>\n",
              "      <td>21.51</td>\n",
              "      <td>29</td>\n",
              "      <td>continuous</td>\n",
              "      <td>secondary</td>\n",
              "      <td>f</td>\n",
              "      <td>f</td>\n",
              "      <td>f</td>\n",
              "      <td>EUT</td>\n",
              "    </tr>\n",
              "    <tr>\n",
              "      <th>6154</th>\n",
              "      <td>39</td>\n",
              "      <td>1.59</td>\n",
              "      <td>64.0</td>\n",
              "      <td>20.00</td>\n",
              "      <td>39</td>\n",
              "      <td>discontinuous</td>\n",
              "      <td>secondary</td>\n",
              "      <td>f</td>\n",
              "      <td>f</td>\n",
              "      <td>t</td>\n",
              "      <td>EUT</td>\n",
              "    </tr>\n",
              "    <tr>\n",
              "      <th>6155</th>\n",
              "      <td>39</td>\n",
              "      <td>1.48</td>\n",
              "      <td>50.0</td>\n",
              "      <td>23.28</td>\n",
              "      <td>41</td>\n",
              "      <td>continuous</td>\n",
              "      <td>primary</td>\n",
              "      <td>f</td>\n",
              "      <td>f</td>\n",
              "      <td>f</td>\n",
              "      <td>emergencyc-section</td>\n",
              "    </tr>\n",
              "    <tr>\n",
              "      <th>6156</th>\n",
              "      <td>38</td>\n",
              "      <td>1.65</td>\n",
              "      <td>75.2</td>\n",
              "      <td>24.00</td>\n",
              "      <td>32</td>\n",
              "      <td>discontinuous</td>\n",
              "      <td>Sinestudios</td>\n",
              "      <td>f</td>\n",
              "      <td>f</td>\n",
              "      <td>f</td>\n",
              "      <td>EUT</td>\n",
              "    </tr>\n",
              "  </tbody>\n",
              "</table>\n",
              "<p>6102 rows × 11 columns</p>\n",
              "</div>\n",
              "      <button class=\"colab-df-convert\" onclick=\"convertToInteractive('df-0baf32f0-98ac-4113-860a-ec220eed5fe3')\"\n",
              "              title=\"Convert this dataframe to an interactive table.\"\n",
              "              style=\"display:none;\">\n",
              "        \n",
              "  <svg xmlns=\"http://www.w3.org/2000/svg\" height=\"24px\"viewBox=\"0 0 24 24\"\n",
              "       width=\"24px\">\n",
              "    <path d=\"M0 0h24v24H0V0z\" fill=\"none\"/>\n",
              "    <path d=\"M18.56 5.44l.94 2.06.94-2.06 2.06-.94-2.06-.94-.94-2.06-.94 2.06-2.06.94zm-11 1L8.5 8.5l.94-2.06 2.06-.94-2.06-.94L8.5 2.5l-.94 2.06-2.06.94zm10 10l.94 2.06.94-2.06 2.06-.94-2.06-.94-.94-2.06-.94 2.06-2.06.94z\"/><path d=\"M17.41 7.96l-1.37-1.37c-.4-.4-.92-.59-1.43-.59-.52 0-1.04.2-1.43.59L10.3 9.45l-7.72 7.72c-.78.78-.78 2.05 0 2.83L4 21.41c.39.39.9.59 1.41.59.51 0 1.02-.2 1.41-.59l7.78-7.78 2.81-2.81c.8-.78.8-2.07 0-2.86zM5.41 20L4 18.59l7.72-7.72 1.47 1.35L5.41 20z\"/>\n",
              "  </svg>\n",
              "      </button>\n",
              "      \n",
              "  <style>\n",
              "    .colab-df-container {\n",
              "      display:flex;\n",
              "      flex-wrap:wrap;\n",
              "      gap: 12px;\n",
              "    }\n",
              "\n",
              "    .colab-df-convert {\n",
              "      background-color: #E8F0FE;\n",
              "      border: none;\n",
              "      border-radius: 50%;\n",
              "      cursor: pointer;\n",
              "      display: none;\n",
              "      fill: #1967D2;\n",
              "      height: 32px;\n",
              "      padding: 0 0 0 0;\n",
              "      width: 32px;\n",
              "    }\n",
              "\n",
              "    .colab-df-convert:hover {\n",
              "      background-color: #E2EBFA;\n",
              "      box-shadow: 0px 1px 2px rgba(60, 64, 67, 0.3), 0px 1px 3px 1px rgba(60, 64, 67, 0.15);\n",
              "      fill: #174EA6;\n",
              "    }\n",
              "\n",
              "    [theme=dark] .colab-df-convert {\n",
              "      background-color: #3B4455;\n",
              "      fill: #D2E3FC;\n",
              "    }\n",
              "\n",
              "    [theme=dark] .colab-df-convert:hover {\n",
              "      background-color: #434B5C;\n",
              "      box-shadow: 0px 1px 3px 1px rgba(0, 0, 0, 0.15);\n",
              "      filter: drop-shadow(0px 1px 2px rgba(0, 0, 0, 0.3));\n",
              "      fill: #FFFFFF;\n",
              "    }\n",
              "  </style>\n",
              "\n",
              "      <script>\n",
              "        const buttonEl =\n",
              "          document.querySelector('#df-0baf32f0-98ac-4113-860a-ec220eed5fe3 button.colab-df-convert');\n",
              "        buttonEl.style.display =\n",
              "          google.colab.kernel.accessAllowed ? 'block' : 'none';\n",
              "\n",
              "        async function convertToInteractive(key) {\n",
              "          const element = document.querySelector('#df-0baf32f0-98ac-4113-860a-ec220eed5fe3');\n",
              "          const dataTable =\n",
              "            await google.colab.kernel.invokeFunction('convertToInteractive',\n",
              "                                                     [key], {});\n",
              "          if (!dataTable) return;\n",
              "\n",
              "          const docLinkHtml = 'Like what you see? Visit the ' +\n",
              "            '<a target=\"_blank\" href=https://colab.research.google.com/notebooks/data_table.ipynb>data table notebook</a>'\n",
              "            + ' to learn more about interactive tables.';\n",
              "          element.innerHTML = '';\n",
              "          dataTable['output_type'] = 'display_data';\n",
              "          await google.colab.output.renderOutput(dataTable, element);\n",
              "          const docLink = document.createElement('div');\n",
              "          docLink.innerHTML = docLinkHtml;\n",
              "          element.appendChild(docLink);\n",
              "        }\n",
              "      </script>\n",
              "    </div>\n",
              "  </div>\n",
              "  "
            ]
          },
          "metadata": {},
          "execution_count": 15
        }
      ],
      "source": [
        "l_df = l_df.drop_duplicates()\n",
        "l_df"
      ]
    },
    {
      "cell_type": "code",
      "execution_count": null,
      "metadata": {
        "id": "rB23wqRHs0Nm"
      },
      "outputs": [],
      "source": [
        "import numpy as np\n",
        "l_df = l_df.replace(r'^\\s*$', np.nan, regex=True)"
      ]
    },
    {
      "cell_type": "markdown",
      "metadata": {
        "id": "CSL58Oa7YZVN"
      },
      "source": [
        "### Handling missing values of categorical attributes by mode"
      ]
    },
    {
      "cell_type": "code",
      "execution_count": null,
      "metadata": {
        "colab": {
          "base_uri": "https://localhost:8080/"
        },
        "id": "6fiIoG6XVn1J",
        "outputId": "0815b91d-339d-47e5-cd38-ad46d2d0561b"
      },
      "outputs": [
        {
          "output_type": "stream",
          "name": "stdout",
          "text": [
            "Categorical variables:\n",
            "['CARDIOTOCOGRAPHY', 'MATERNALEDUCATION', 'SUBSTANCEABUSE', 'SMOKING', 'ALCOHOL', 'TYPEOFBIRTH']\n",
            "6\n"
          ]
        }
      ],
      "source": [
        "s = (l_df.dtypes == 'object')\n",
        "#print(s)\n",
        "#print(s[s])\n",
        "object_cols = list(s[s].index)\n",
        "print(\"Categorical variables:\")\n",
        "print(object_cols)\n",
        "print(len(object_cols))"
      ]
    },
    {
      "cell_type": "code",
      "execution_count": null,
      "metadata": {
        "colab": {
          "base_uri": "https://localhost:8080/",
          "height": 424
        },
        "id": "YebHw3CwMH9B",
        "outputId": "58a7d898-bcf5-49c8-e02b-9ef3c07d312a"
      },
      "outputs": [
        {
          "output_type": "execute_result",
          "data": {
            "text/plain": [
              "      GESTAGIONALAGE  HEIGHT  WEIGHT    BMI  AGE CARDIOTOCOGRAPHY  \\\n",
              "0                 37    1.58    70.0  28.04   30       continuous   \n",
              "1                 38    1.61    79.0  30.48   38       continuous   \n",
              "2                 39    1.56    72.0  29.59   25       continuous   \n",
              "3                 40    1.62    54.0  20.58   31       continuous   \n",
              "4                 41    1.47    51.0  23.60   28       continuous   \n",
              "...              ...     ...     ...    ...  ...              ...   \n",
              "6152              35    1.56    49.0  20.00   35       continuous   \n",
              "6153              40    1.64    59.0  21.51   29       continuous   \n",
              "6154              39    1.59    64.0  20.00   39    discontinuous   \n",
              "6155              39    1.48    50.0  23.28   41       continuous   \n",
              "6156              38    1.65    75.2  24.00   32    discontinuous   \n",
              "\n",
              "     MATERNALEDUCATION SUBSTANCEABUSE SMOKING ALCOHOL         TYPEOFBIRTH  \n",
              "0            secondary              f       f       f  emergencyc-section  \n",
              "1            secondary              f       f       f       CESprogrammed  \n",
              "2            secondary              f       f       f                 EUT  \n",
              "3            secondary              f       f       f                 EUT  \n",
              "4            secondary              f       f       f                 EUT  \n",
              "...                ...            ...     ...     ...                 ...  \n",
              "6152         secondary              f       f       f                 EUT  \n",
              "6153         secondary              f       f       f                 EUT  \n",
              "6154         secondary              f       f       t                 EUT  \n",
              "6155           primary              f       f       f  emergencyc-section  \n",
              "6156       Sinestudios              f       f       f                 EUT  \n",
              "\n",
              "[6102 rows x 11 columns]"
            ],
            "text/html": [
              "\n",
              "  <div id=\"df-3c1eec0f-998b-4022-8d93-3fc39ee9031b\">\n",
              "    <div class=\"colab-df-container\">\n",
              "      <div>\n",
              "<style scoped>\n",
              "    .dataframe tbody tr th:only-of-type {\n",
              "        vertical-align: middle;\n",
              "    }\n",
              "\n",
              "    .dataframe tbody tr th {\n",
              "        vertical-align: top;\n",
              "    }\n",
              "\n",
              "    .dataframe thead th {\n",
              "        text-align: right;\n",
              "    }\n",
              "</style>\n",
              "<table border=\"1\" class=\"dataframe\">\n",
              "  <thead>\n",
              "    <tr style=\"text-align: right;\">\n",
              "      <th></th>\n",
              "      <th>GESTAGIONALAGE</th>\n",
              "      <th>HEIGHT</th>\n",
              "      <th>WEIGHT</th>\n",
              "      <th>BMI</th>\n",
              "      <th>AGE</th>\n",
              "      <th>CARDIOTOCOGRAPHY</th>\n",
              "      <th>MATERNALEDUCATION</th>\n",
              "      <th>SUBSTANCEABUSE</th>\n",
              "      <th>SMOKING</th>\n",
              "      <th>ALCOHOL</th>\n",
              "      <th>TYPEOFBIRTH</th>\n",
              "    </tr>\n",
              "  </thead>\n",
              "  <tbody>\n",
              "    <tr>\n",
              "      <th>0</th>\n",
              "      <td>37</td>\n",
              "      <td>1.58</td>\n",
              "      <td>70.0</td>\n",
              "      <td>28.04</td>\n",
              "      <td>30</td>\n",
              "      <td>continuous</td>\n",
              "      <td>secondary</td>\n",
              "      <td>f</td>\n",
              "      <td>f</td>\n",
              "      <td>f</td>\n",
              "      <td>emergencyc-section</td>\n",
              "    </tr>\n",
              "    <tr>\n",
              "      <th>1</th>\n",
              "      <td>38</td>\n",
              "      <td>1.61</td>\n",
              "      <td>79.0</td>\n",
              "      <td>30.48</td>\n",
              "      <td>38</td>\n",
              "      <td>continuous</td>\n",
              "      <td>secondary</td>\n",
              "      <td>f</td>\n",
              "      <td>f</td>\n",
              "      <td>f</td>\n",
              "      <td>CESprogrammed</td>\n",
              "    </tr>\n",
              "    <tr>\n",
              "      <th>2</th>\n",
              "      <td>39</td>\n",
              "      <td>1.56</td>\n",
              "      <td>72.0</td>\n",
              "      <td>29.59</td>\n",
              "      <td>25</td>\n",
              "      <td>continuous</td>\n",
              "      <td>secondary</td>\n",
              "      <td>f</td>\n",
              "      <td>f</td>\n",
              "      <td>f</td>\n",
              "      <td>EUT</td>\n",
              "    </tr>\n",
              "    <tr>\n",
              "      <th>3</th>\n",
              "      <td>40</td>\n",
              "      <td>1.62</td>\n",
              "      <td>54.0</td>\n",
              "      <td>20.58</td>\n",
              "      <td>31</td>\n",
              "      <td>continuous</td>\n",
              "      <td>secondary</td>\n",
              "      <td>f</td>\n",
              "      <td>f</td>\n",
              "      <td>f</td>\n",
              "      <td>EUT</td>\n",
              "    </tr>\n",
              "    <tr>\n",
              "      <th>4</th>\n",
              "      <td>41</td>\n",
              "      <td>1.47</td>\n",
              "      <td>51.0</td>\n",
              "      <td>23.60</td>\n",
              "      <td>28</td>\n",
              "      <td>continuous</td>\n",
              "      <td>secondary</td>\n",
              "      <td>f</td>\n",
              "      <td>f</td>\n",
              "      <td>f</td>\n",
              "      <td>EUT</td>\n",
              "    </tr>\n",
              "    <tr>\n",
              "      <th>...</th>\n",
              "      <td>...</td>\n",
              "      <td>...</td>\n",
              "      <td>...</td>\n",
              "      <td>...</td>\n",
              "      <td>...</td>\n",
              "      <td>...</td>\n",
              "      <td>...</td>\n",
              "      <td>...</td>\n",
              "      <td>...</td>\n",
              "      <td>...</td>\n",
              "      <td>...</td>\n",
              "    </tr>\n",
              "    <tr>\n",
              "      <th>6152</th>\n",
              "      <td>35</td>\n",
              "      <td>1.56</td>\n",
              "      <td>49.0</td>\n",
              "      <td>20.00</td>\n",
              "      <td>35</td>\n",
              "      <td>continuous</td>\n",
              "      <td>secondary</td>\n",
              "      <td>f</td>\n",
              "      <td>f</td>\n",
              "      <td>f</td>\n",
              "      <td>EUT</td>\n",
              "    </tr>\n",
              "    <tr>\n",
              "      <th>6153</th>\n",
              "      <td>40</td>\n",
              "      <td>1.64</td>\n",
              "      <td>59.0</td>\n",
              "      <td>21.51</td>\n",
              "      <td>29</td>\n",
              "      <td>continuous</td>\n",
              "      <td>secondary</td>\n",
              "      <td>f</td>\n",
              "      <td>f</td>\n",
              "      <td>f</td>\n",
              "      <td>EUT</td>\n",
              "    </tr>\n",
              "    <tr>\n",
              "      <th>6154</th>\n",
              "      <td>39</td>\n",
              "      <td>1.59</td>\n",
              "      <td>64.0</td>\n",
              "      <td>20.00</td>\n",
              "      <td>39</td>\n",
              "      <td>discontinuous</td>\n",
              "      <td>secondary</td>\n",
              "      <td>f</td>\n",
              "      <td>f</td>\n",
              "      <td>t</td>\n",
              "      <td>EUT</td>\n",
              "    </tr>\n",
              "    <tr>\n",
              "      <th>6155</th>\n",
              "      <td>39</td>\n",
              "      <td>1.48</td>\n",
              "      <td>50.0</td>\n",
              "      <td>23.28</td>\n",
              "      <td>41</td>\n",
              "      <td>continuous</td>\n",
              "      <td>primary</td>\n",
              "      <td>f</td>\n",
              "      <td>f</td>\n",
              "      <td>f</td>\n",
              "      <td>emergencyc-section</td>\n",
              "    </tr>\n",
              "    <tr>\n",
              "      <th>6156</th>\n",
              "      <td>38</td>\n",
              "      <td>1.65</td>\n",
              "      <td>75.2</td>\n",
              "      <td>24.00</td>\n",
              "      <td>32</td>\n",
              "      <td>discontinuous</td>\n",
              "      <td>Sinestudios</td>\n",
              "      <td>f</td>\n",
              "      <td>f</td>\n",
              "      <td>f</td>\n",
              "      <td>EUT</td>\n",
              "    </tr>\n",
              "  </tbody>\n",
              "</table>\n",
              "<p>6102 rows × 11 columns</p>\n",
              "</div>\n",
              "      <button class=\"colab-df-convert\" onclick=\"convertToInteractive('df-3c1eec0f-998b-4022-8d93-3fc39ee9031b')\"\n",
              "              title=\"Convert this dataframe to an interactive table.\"\n",
              "              style=\"display:none;\">\n",
              "        \n",
              "  <svg xmlns=\"http://www.w3.org/2000/svg\" height=\"24px\"viewBox=\"0 0 24 24\"\n",
              "       width=\"24px\">\n",
              "    <path d=\"M0 0h24v24H0V0z\" fill=\"none\"/>\n",
              "    <path d=\"M18.56 5.44l.94 2.06.94-2.06 2.06-.94-2.06-.94-.94-2.06-.94 2.06-2.06.94zm-11 1L8.5 8.5l.94-2.06 2.06-.94-2.06-.94L8.5 2.5l-.94 2.06-2.06.94zm10 10l.94 2.06.94-2.06 2.06-.94-2.06-.94-.94-2.06-.94 2.06-2.06.94z\"/><path d=\"M17.41 7.96l-1.37-1.37c-.4-.4-.92-.59-1.43-.59-.52 0-1.04.2-1.43.59L10.3 9.45l-7.72 7.72c-.78.78-.78 2.05 0 2.83L4 21.41c.39.39.9.59 1.41.59.51 0 1.02-.2 1.41-.59l7.78-7.78 2.81-2.81c.8-.78.8-2.07 0-2.86zM5.41 20L4 18.59l7.72-7.72 1.47 1.35L5.41 20z\"/>\n",
              "  </svg>\n",
              "      </button>\n",
              "      \n",
              "  <style>\n",
              "    .colab-df-container {\n",
              "      display:flex;\n",
              "      flex-wrap:wrap;\n",
              "      gap: 12px;\n",
              "    }\n",
              "\n",
              "    .colab-df-convert {\n",
              "      background-color: #E8F0FE;\n",
              "      border: none;\n",
              "      border-radius: 50%;\n",
              "      cursor: pointer;\n",
              "      display: none;\n",
              "      fill: #1967D2;\n",
              "      height: 32px;\n",
              "      padding: 0 0 0 0;\n",
              "      width: 32px;\n",
              "    }\n",
              "\n",
              "    .colab-df-convert:hover {\n",
              "      background-color: #E2EBFA;\n",
              "      box-shadow: 0px 1px 2px rgba(60, 64, 67, 0.3), 0px 1px 3px 1px rgba(60, 64, 67, 0.15);\n",
              "      fill: #174EA6;\n",
              "    }\n",
              "\n",
              "    [theme=dark] .colab-df-convert {\n",
              "      background-color: #3B4455;\n",
              "      fill: #D2E3FC;\n",
              "    }\n",
              "\n",
              "    [theme=dark] .colab-df-convert:hover {\n",
              "      background-color: #434B5C;\n",
              "      box-shadow: 0px 1px 3px 1px rgba(0, 0, 0, 0.15);\n",
              "      filter: drop-shadow(0px 1px 2px rgba(0, 0, 0, 0.3));\n",
              "      fill: #FFFFFF;\n",
              "    }\n",
              "  </style>\n",
              "\n",
              "      <script>\n",
              "        const buttonEl =\n",
              "          document.querySelector('#df-3c1eec0f-998b-4022-8d93-3fc39ee9031b button.colab-df-convert');\n",
              "        buttonEl.style.display =\n",
              "          google.colab.kernel.accessAllowed ? 'block' : 'none';\n",
              "\n",
              "        async function convertToInteractive(key) {\n",
              "          const element = document.querySelector('#df-3c1eec0f-998b-4022-8d93-3fc39ee9031b');\n",
              "          const dataTable =\n",
              "            await google.colab.kernel.invokeFunction('convertToInteractive',\n",
              "                                                     [key], {});\n",
              "          if (!dataTable) return;\n",
              "\n",
              "          const docLinkHtml = 'Like what you see? Visit the ' +\n",
              "            '<a target=\"_blank\" href=https://colab.research.google.com/notebooks/data_table.ipynb>data table notebook</a>'\n",
              "            + ' to learn more about interactive tables.';\n",
              "          element.innerHTML = '';\n",
              "          dataTable['output_type'] = 'display_data';\n",
              "          await google.colab.output.renderOutput(dataTable, element);\n",
              "          const docLink = document.createElement('div');\n",
              "          docLink.innerHTML = docLinkHtml;\n",
              "          element.appendChild(docLink);\n",
              "        }\n",
              "      </script>\n",
              "    </div>\n",
              "  </div>\n",
              "  "
            ]
          },
          "metadata": {},
          "execution_count": 18
        }
      ],
      "source": [
        "for i in object_cols:\n",
        "  x = l_df[i].mode()[0]\n",
        "  l_df[i].fillna(x,inplace = True)\n",
        "l_df"
      ]
    },
    {
      "cell_type": "markdown",
      "metadata": {
        "id": "uobrmz3HYhrk"
      },
      "source": [
        "### Handling missing values of Numerical attributes using mean"
      ]
    },
    {
      "cell_type": "code",
      "execution_count": null,
      "metadata": {
        "colab": {
          "base_uri": "https://localhost:8080/"
        },
        "id": "s3qdwyryQ2og",
        "outputId": "37cfcd0a-e791-4887-80c6-ef4258655287"
      },
      "outputs": [
        {
          "output_type": "stream",
          "name": "stdout",
          "text": [
            "Numerical variables:\n",
            "['GESTAGIONALAGE', 'HEIGHT', 'WEIGHT', 'BMI', 'AGE']\n",
            "5\n"
          ]
        }
      ],
      "source": [
        "s = (l_df.dtypes != 'object')\n",
        "number_cols = list(s[s].index)\n",
        "print(\"Numerical variables:\")\n",
        "print(number_cols)\n",
        "print(len(number_cols))"
      ]
    },
    {
      "cell_type": "code",
      "execution_count": null,
      "metadata": {
        "colab": {
          "base_uri": "https://localhost:8080/",
          "height": 424
        },
        "id": "WL2XlZv5TJjx",
        "outputId": "670b61fc-1410-4298-96f3-86def1b4e420"
      },
      "outputs": [
        {
          "output_type": "execute_result",
          "data": {
            "text/plain": [
              "      GESTAGIONALAGE  HEIGHT  WEIGHT    BMI  AGE CARDIOTOCOGRAPHY  \\\n",
              "0                 37    1.58    70.0  28.04   30       continuous   \n",
              "1                 38    1.61    79.0  30.48   38       continuous   \n",
              "2                 39    1.56    72.0  29.59   25       continuous   \n",
              "3                 40    1.62    54.0  20.58   31       continuous   \n",
              "4                 41    1.47    51.0  23.60   28       continuous   \n",
              "...              ...     ...     ...    ...  ...              ...   \n",
              "6152              35    1.56    49.0  20.00   35       continuous   \n",
              "6153              40    1.64    59.0  21.51   29       continuous   \n",
              "6154              39    1.59    64.0  20.00   39    discontinuous   \n",
              "6155              39    1.48    50.0  23.28   41       continuous   \n",
              "6156              38    1.65    75.2  24.00   32    discontinuous   \n",
              "\n",
              "     MATERNALEDUCATION SUBSTANCEABUSE SMOKING ALCOHOL         TYPEOFBIRTH  \n",
              "0            secondary              f       f       f  emergencyc-section  \n",
              "1            secondary              f       f       f       CESprogrammed  \n",
              "2            secondary              f       f       f                 EUT  \n",
              "3            secondary              f       f       f                 EUT  \n",
              "4            secondary              f       f       f                 EUT  \n",
              "...                ...            ...     ...     ...                 ...  \n",
              "6152         secondary              f       f       f                 EUT  \n",
              "6153         secondary              f       f       f                 EUT  \n",
              "6154         secondary              f       f       t                 EUT  \n",
              "6155           primary              f       f       f  emergencyc-section  \n",
              "6156       Sinestudios              f       f       f                 EUT  \n",
              "\n",
              "[6102 rows x 11 columns]"
            ],
            "text/html": [
              "\n",
              "  <div id=\"df-cd70901b-7c2b-4547-aa54-fc6d8faebd44\">\n",
              "    <div class=\"colab-df-container\">\n",
              "      <div>\n",
              "<style scoped>\n",
              "    .dataframe tbody tr th:only-of-type {\n",
              "        vertical-align: middle;\n",
              "    }\n",
              "\n",
              "    .dataframe tbody tr th {\n",
              "        vertical-align: top;\n",
              "    }\n",
              "\n",
              "    .dataframe thead th {\n",
              "        text-align: right;\n",
              "    }\n",
              "</style>\n",
              "<table border=\"1\" class=\"dataframe\">\n",
              "  <thead>\n",
              "    <tr style=\"text-align: right;\">\n",
              "      <th></th>\n",
              "      <th>GESTAGIONALAGE</th>\n",
              "      <th>HEIGHT</th>\n",
              "      <th>WEIGHT</th>\n",
              "      <th>BMI</th>\n",
              "      <th>AGE</th>\n",
              "      <th>CARDIOTOCOGRAPHY</th>\n",
              "      <th>MATERNALEDUCATION</th>\n",
              "      <th>SUBSTANCEABUSE</th>\n",
              "      <th>SMOKING</th>\n",
              "      <th>ALCOHOL</th>\n",
              "      <th>TYPEOFBIRTH</th>\n",
              "    </tr>\n",
              "  </thead>\n",
              "  <tbody>\n",
              "    <tr>\n",
              "      <th>0</th>\n",
              "      <td>37</td>\n",
              "      <td>1.58</td>\n",
              "      <td>70.0</td>\n",
              "      <td>28.04</td>\n",
              "      <td>30</td>\n",
              "      <td>continuous</td>\n",
              "      <td>secondary</td>\n",
              "      <td>f</td>\n",
              "      <td>f</td>\n",
              "      <td>f</td>\n",
              "      <td>emergencyc-section</td>\n",
              "    </tr>\n",
              "    <tr>\n",
              "      <th>1</th>\n",
              "      <td>38</td>\n",
              "      <td>1.61</td>\n",
              "      <td>79.0</td>\n",
              "      <td>30.48</td>\n",
              "      <td>38</td>\n",
              "      <td>continuous</td>\n",
              "      <td>secondary</td>\n",
              "      <td>f</td>\n",
              "      <td>f</td>\n",
              "      <td>f</td>\n",
              "      <td>CESprogrammed</td>\n",
              "    </tr>\n",
              "    <tr>\n",
              "      <th>2</th>\n",
              "      <td>39</td>\n",
              "      <td>1.56</td>\n",
              "      <td>72.0</td>\n",
              "      <td>29.59</td>\n",
              "      <td>25</td>\n",
              "      <td>continuous</td>\n",
              "      <td>secondary</td>\n",
              "      <td>f</td>\n",
              "      <td>f</td>\n",
              "      <td>f</td>\n",
              "      <td>EUT</td>\n",
              "    </tr>\n",
              "    <tr>\n",
              "      <th>3</th>\n",
              "      <td>40</td>\n",
              "      <td>1.62</td>\n",
              "      <td>54.0</td>\n",
              "      <td>20.58</td>\n",
              "      <td>31</td>\n",
              "      <td>continuous</td>\n",
              "      <td>secondary</td>\n",
              "      <td>f</td>\n",
              "      <td>f</td>\n",
              "      <td>f</td>\n",
              "      <td>EUT</td>\n",
              "    </tr>\n",
              "    <tr>\n",
              "      <th>4</th>\n",
              "      <td>41</td>\n",
              "      <td>1.47</td>\n",
              "      <td>51.0</td>\n",
              "      <td>23.60</td>\n",
              "      <td>28</td>\n",
              "      <td>continuous</td>\n",
              "      <td>secondary</td>\n",
              "      <td>f</td>\n",
              "      <td>f</td>\n",
              "      <td>f</td>\n",
              "      <td>EUT</td>\n",
              "    </tr>\n",
              "    <tr>\n",
              "      <th>...</th>\n",
              "      <td>...</td>\n",
              "      <td>...</td>\n",
              "      <td>...</td>\n",
              "      <td>...</td>\n",
              "      <td>...</td>\n",
              "      <td>...</td>\n",
              "      <td>...</td>\n",
              "      <td>...</td>\n",
              "      <td>...</td>\n",
              "      <td>...</td>\n",
              "      <td>...</td>\n",
              "    </tr>\n",
              "    <tr>\n",
              "      <th>6152</th>\n",
              "      <td>35</td>\n",
              "      <td>1.56</td>\n",
              "      <td>49.0</td>\n",
              "      <td>20.00</td>\n",
              "      <td>35</td>\n",
              "      <td>continuous</td>\n",
              "      <td>secondary</td>\n",
              "      <td>f</td>\n",
              "      <td>f</td>\n",
              "      <td>f</td>\n",
              "      <td>EUT</td>\n",
              "    </tr>\n",
              "    <tr>\n",
              "      <th>6153</th>\n",
              "      <td>40</td>\n",
              "      <td>1.64</td>\n",
              "      <td>59.0</td>\n",
              "      <td>21.51</td>\n",
              "      <td>29</td>\n",
              "      <td>continuous</td>\n",
              "      <td>secondary</td>\n",
              "      <td>f</td>\n",
              "      <td>f</td>\n",
              "      <td>f</td>\n",
              "      <td>EUT</td>\n",
              "    </tr>\n",
              "    <tr>\n",
              "      <th>6154</th>\n",
              "      <td>39</td>\n",
              "      <td>1.59</td>\n",
              "      <td>64.0</td>\n",
              "      <td>20.00</td>\n",
              "      <td>39</td>\n",
              "      <td>discontinuous</td>\n",
              "      <td>secondary</td>\n",
              "      <td>f</td>\n",
              "      <td>f</td>\n",
              "      <td>t</td>\n",
              "      <td>EUT</td>\n",
              "    </tr>\n",
              "    <tr>\n",
              "      <th>6155</th>\n",
              "      <td>39</td>\n",
              "      <td>1.48</td>\n",
              "      <td>50.0</td>\n",
              "      <td>23.28</td>\n",
              "      <td>41</td>\n",
              "      <td>continuous</td>\n",
              "      <td>primary</td>\n",
              "      <td>f</td>\n",
              "      <td>f</td>\n",
              "      <td>f</td>\n",
              "      <td>emergencyc-section</td>\n",
              "    </tr>\n",
              "    <tr>\n",
              "      <th>6156</th>\n",
              "      <td>38</td>\n",
              "      <td>1.65</td>\n",
              "      <td>75.2</td>\n",
              "      <td>24.00</td>\n",
              "      <td>32</td>\n",
              "      <td>discontinuous</td>\n",
              "      <td>Sinestudios</td>\n",
              "      <td>f</td>\n",
              "      <td>f</td>\n",
              "      <td>f</td>\n",
              "      <td>EUT</td>\n",
              "    </tr>\n",
              "  </tbody>\n",
              "</table>\n",
              "<p>6102 rows × 11 columns</p>\n",
              "</div>\n",
              "      <button class=\"colab-df-convert\" onclick=\"convertToInteractive('df-cd70901b-7c2b-4547-aa54-fc6d8faebd44')\"\n",
              "              title=\"Convert this dataframe to an interactive table.\"\n",
              "              style=\"display:none;\">\n",
              "        \n",
              "  <svg xmlns=\"http://www.w3.org/2000/svg\" height=\"24px\"viewBox=\"0 0 24 24\"\n",
              "       width=\"24px\">\n",
              "    <path d=\"M0 0h24v24H0V0z\" fill=\"none\"/>\n",
              "    <path d=\"M18.56 5.44l.94 2.06.94-2.06 2.06-.94-2.06-.94-.94-2.06-.94 2.06-2.06.94zm-11 1L8.5 8.5l.94-2.06 2.06-.94-2.06-.94L8.5 2.5l-.94 2.06-2.06.94zm10 10l.94 2.06.94-2.06 2.06-.94-2.06-.94-.94-2.06-.94 2.06-2.06.94z\"/><path d=\"M17.41 7.96l-1.37-1.37c-.4-.4-.92-.59-1.43-.59-.52 0-1.04.2-1.43.59L10.3 9.45l-7.72 7.72c-.78.78-.78 2.05 0 2.83L4 21.41c.39.39.9.59 1.41.59.51 0 1.02-.2 1.41-.59l7.78-7.78 2.81-2.81c.8-.78.8-2.07 0-2.86zM5.41 20L4 18.59l7.72-7.72 1.47 1.35L5.41 20z\"/>\n",
              "  </svg>\n",
              "      </button>\n",
              "      \n",
              "  <style>\n",
              "    .colab-df-container {\n",
              "      display:flex;\n",
              "      flex-wrap:wrap;\n",
              "      gap: 12px;\n",
              "    }\n",
              "\n",
              "    .colab-df-convert {\n",
              "      background-color: #E8F0FE;\n",
              "      border: none;\n",
              "      border-radius: 50%;\n",
              "      cursor: pointer;\n",
              "      display: none;\n",
              "      fill: #1967D2;\n",
              "      height: 32px;\n",
              "      padding: 0 0 0 0;\n",
              "      width: 32px;\n",
              "    }\n",
              "\n",
              "    .colab-df-convert:hover {\n",
              "      background-color: #E2EBFA;\n",
              "      box-shadow: 0px 1px 2px rgba(60, 64, 67, 0.3), 0px 1px 3px 1px rgba(60, 64, 67, 0.15);\n",
              "      fill: #174EA6;\n",
              "    }\n",
              "\n",
              "    [theme=dark] .colab-df-convert {\n",
              "      background-color: #3B4455;\n",
              "      fill: #D2E3FC;\n",
              "    }\n",
              "\n",
              "    [theme=dark] .colab-df-convert:hover {\n",
              "      background-color: #434B5C;\n",
              "      box-shadow: 0px 1px 3px 1px rgba(0, 0, 0, 0.15);\n",
              "      filter: drop-shadow(0px 1px 2px rgba(0, 0, 0, 0.3));\n",
              "      fill: #FFFFFF;\n",
              "    }\n",
              "  </style>\n",
              "\n",
              "      <script>\n",
              "        const buttonEl =\n",
              "          document.querySelector('#df-cd70901b-7c2b-4547-aa54-fc6d8faebd44 button.colab-df-convert');\n",
              "        buttonEl.style.display =\n",
              "          google.colab.kernel.accessAllowed ? 'block' : 'none';\n",
              "\n",
              "        async function convertToInteractive(key) {\n",
              "          const element = document.querySelector('#df-cd70901b-7c2b-4547-aa54-fc6d8faebd44');\n",
              "          const dataTable =\n",
              "            await google.colab.kernel.invokeFunction('convertToInteractive',\n",
              "                                                     [key], {});\n",
              "          if (!dataTable) return;\n",
              "\n",
              "          const docLinkHtml = 'Like what you see? Visit the ' +\n",
              "            '<a target=\"_blank\" href=https://colab.research.google.com/notebooks/data_table.ipynb>data table notebook</a>'\n",
              "            + ' to learn more about interactive tables.';\n",
              "          element.innerHTML = '';\n",
              "          dataTable['output_type'] = 'display_data';\n",
              "          await google.colab.output.renderOutput(dataTable, element);\n",
              "          const docLink = document.createElement('div');\n",
              "          docLink.innerHTML = docLinkHtml;\n",
              "          element.appendChild(docLink);\n",
              "        }\n",
              "      </script>\n",
              "    </div>\n",
              "  </div>\n",
              "  "
            ]
          },
          "metadata": {},
          "execution_count": 20
        }
      ],
      "source": [
        "for i in number_cols:\n",
        "  x = l_df[i].mean()\n",
        "  l_df[i].fillna(x,inplace = True)\n",
        "l_df"
      ]
    },
    {
      "cell_type": "code",
      "execution_count": null,
      "metadata": {
        "colab": {
          "base_uri": "https://localhost:8080/"
        },
        "id": "l_OWSIrHocMi",
        "outputId": "817f84c1-3a16-490e-9d8c-4fed2e649b22"
      },
      "outputs": [
        {
          "output_type": "stream",
          "name": "stdout",
          "text": [
            "<class 'pandas.core.frame.DataFrame'>\n",
            "Int64Index: 6102 entries, 0 to 6156\n",
            "Data columns (total 11 columns):\n",
            " #   Column             Non-Null Count  Dtype  \n",
            "---  ------             --------------  -----  \n",
            " 0   GESTAGIONALAGE     6102 non-null   int64  \n",
            " 1   HEIGHT             6102 non-null   float64\n",
            " 2   WEIGHT             6102 non-null   float64\n",
            " 3   BMI                6102 non-null   float64\n",
            " 4   AGE                6102 non-null   int64  \n",
            " 5   CARDIOTOCOGRAPHY   6102 non-null   object \n",
            " 6   MATERNALEDUCATION  6102 non-null   object \n",
            " 7   SUBSTANCEABUSE     6102 non-null   object \n",
            " 8   SMOKING            6102 non-null   object \n",
            " 9   ALCOHOL            6102 non-null   object \n",
            " 10  TYPEOFBIRTH        6102 non-null   object \n",
            "dtypes: float64(3), int64(2), object(6)\n",
            "memory usage: 572.1+ KB\n"
          ]
        }
      ],
      "source": [
        "l_df.info()"
      ]
    },
    {
      "cell_type": "markdown",
      "metadata": {
        "id": "yD9eAJzzYvhC"
      },
      "source": [
        "### Checking NULL values"
      ]
    },
    {
      "cell_type": "code",
      "execution_count": null,
      "metadata": {
        "colab": {
          "base_uri": "https://localhost:8080/"
        },
        "id": "3zhLRcxgUPo8",
        "outputId": "0d9a500f-5e8e-4522-9d6a-825fdc74e978"
      },
      "outputs": [
        {
          "output_type": "execute_result",
          "data": {
            "text/plain": [
              "GESTAGIONALAGE       0\n",
              "HEIGHT               0\n",
              "WEIGHT               0\n",
              "BMI                  0\n",
              "AGE                  0\n",
              "CARDIOTOCOGRAPHY     0\n",
              "MATERNALEDUCATION    0\n",
              "SUBSTANCEABUSE       0\n",
              "SMOKING              0\n",
              "ALCOHOL              0\n",
              "TYPEOFBIRTH          0\n",
              "dtype: int64"
            ]
          },
          "metadata": {},
          "execution_count": 22
        }
      ],
      "source": [
        "l_df.isnull().sum()"
      ]
    },
    {
      "cell_type": "code",
      "execution_count": null,
      "metadata": {
        "colab": {
          "base_uri": "https://localhost:8080/"
        },
        "id": "PTUhrsW5RRI_",
        "outputId": "70032076-7e90-47b1-dc57-5a63b629fc55"
      },
      "outputs": [
        {
          "output_type": "execute_result",
          "data": {
            "text/plain": [
              "array(['emergencyc-section', 'CESprogrammed', 'EUT', 'vacum', 'FORC',\n",
              "       'ESP', 'NALGASVAGINAL'], dtype=object)"
            ]
          },
          "metadata": {},
          "execution_count": 23
        }
      ],
      "source": [
        "l_df.TYPEOFBIRTH.unique()"
      ]
    },
    {
      "cell_type": "code",
      "execution_count": null,
      "metadata": {
        "colab": {
          "base_uri": "https://localhost:8080/"
        },
        "id": "ups4LsaxRjdW",
        "outputId": "7042a289-dc2d-43f5-d05e-089283800c29"
      },
      "outputs": [
        {
          "output_type": "stream",
          "name": "stdout",
          "text": [
            "EUT : 4192\n",
            "FORC : 86\n",
            "NALGASVAGINAL : 8\n",
            "CESprogrammed : 324\n",
            "vacum : 764\n",
            "ESP : 44\n",
            "emergencyc-section : 684\n"
          ]
        }
      ],
      "source": [
        "a = l_df['TYPEOFBIRTH'].values.tolist()\n",
        "s = set(a)\n",
        "for x in s:\n",
        "  print(x,\":\",a.count(x))"
      ]
    },
    {
      "cell_type": "code",
      "execution_count": null,
      "metadata": {
        "colab": {
          "base_uri": "https://localhost:8080/",
          "height": 424
        },
        "id": "sxJmwgascEPz",
        "outputId": "e2304269-fe11-4ce0-e92c-119d3a4edc79"
      },
      "outputs": [
        {
          "output_type": "execute_result",
          "data": {
            "text/plain": [
              "      GESTAGIONALAGE  HEIGHT  WEIGHT    BMI  AGE CARDIOTOCOGRAPHY  \\\n",
              "0                 37    1.58    70.0  28.04   30       continuous   \n",
              "1                 38    1.61    79.0  30.48   38       continuous   \n",
              "2                 39    1.56    72.0  29.59   25       continuous   \n",
              "3                 40    1.62    54.0  20.58   31       continuous   \n",
              "4                 41    1.47    51.0  23.60   28       continuous   \n",
              "...              ...     ...     ...    ...  ...              ...   \n",
              "6152              35    1.56    49.0  20.00   35       continuous   \n",
              "6153              40    1.64    59.0  21.51   29       continuous   \n",
              "6154              39    1.59    64.0  20.00   39    discontinuous   \n",
              "6155              39    1.48    50.0  23.28   41       continuous   \n",
              "6156              38    1.65    75.2  24.00   32    discontinuous   \n",
              "\n",
              "     MATERNALEDUCATION SUBSTANCEABUSE SMOKING ALCOHOL         TYPEOFBIRTH  \n",
              "0            secondary              f       f       f  emergencyc-section  \n",
              "1            secondary              f       f       f       CESprogrammed  \n",
              "2            secondary              f       f       f                 EUT  \n",
              "3            secondary              f       f       f                 EUT  \n",
              "4            secondary              f       f       f                 EUT  \n",
              "...                ...            ...     ...     ...                 ...  \n",
              "6152         secondary              f       f       f                 EUT  \n",
              "6153         secondary              f       f       f                 EUT  \n",
              "6154         secondary              f       f       t                 EUT  \n",
              "6155           primary              f       f       f  emergencyc-section  \n",
              "6156       Sinestudios              f       f       f                 EUT  \n",
              "\n",
              "[6102 rows x 11 columns]"
            ],
            "text/html": [
              "\n",
              "  <div id=\"df-53e76724-e7ba-498b-bd66-f70c6fef3edd\">\n",
              "    <div class=\"colab-df-container\">\n",
              "      <div>\n",
              "<style scoped>\n",
              "    .dataframe tbody tr th:only-of-type {\n",
              "        vertical-align: middle;\n",
              "    }\n",
              "\n",
              "    .dataframe tbody tr th {\n",
              "        vertical-align: top;\n",
              "    }\n",
              "\n",
              "    .dataframe thead th {\n",
              "        text-align: right;\n",
              "    }\n",
              "</style>\n",
              "<table border=\"1\" class=\"dataframe\">\n",
              "  <thead>\n",
              "    <tr style=\"text-align: right;\">\n",
              "      <th></th>\n",
              "      <th>GESTAGIONALAGE</th>\n",
              "      <th>HEIGHT</th>\n",
              "      <th>WEIGHT</th>\n",
              "      <th>BMI</th>\n",
              "      <th>AGE</th>\n",
              "      <th>CARDIOTOCOGRAPHY</th>\n",
              "      <th>MATERNALEDUCATION</th>\n",
              "      <th>SUBSTANCEABUSE</th>\n",
              "      <th>SMOKING</th>\n",
              "      <th>ALCOHOL</th>\n",
              "      <th>TYPEOFBIRTH</th>\n",
              "    </tr>\n",
              "  </thead>\n",
              "  <tbody>\n",
              "    <tr>\n",
              "      <th>0</th>\n",
              "      <td>37</td>\n",
              "      <td>1.58</td>\n",
              "      <td>70.0</td>\n",
              "      <td>28.04</td>\n",
              "      <td>30</td>\n",
              "      <td>continuous</td>\n",
              "      <td>secondary</td>\n",
              "      <td>f</td>\n",
              "      <td>f</td>\n",
              "      <td>f</td>\n",
              "      <td>emergencyc-section</td>\n",
              "    </tr>\n",
              "    <tr>\n",
              "      <th>1</th>\n",
              "      <td>38</td>\n",
              "      <td>1.61</td>\n",
              "      <td>79.0</td>\n",
              "      <td>30.48</td>\n",
              "      <td>38</td>\n",
              "      <td>continuous</td>\n",
              "      <td>secondary</td>\n",
              "      <td>f</td>\n",
              "      <td>f</td>\n",
              "      <td>f</td>\n",
              "      <td>CESprogrammed</td>\n",
              "    </tr>\n",
              "    <tr>\n",
              "      <th>2</th>\n",
              "      <td>39</td>\n",
              "      <td>1.56</td>\n",
              "      <td>72.0</td>\n",
              "      <td>29.59</td>\n",
              "      <td>25</td>\n",
              "      <td>continuous</td>\n",
              "      <td>secondary</td>\n",
              "      <td>f</td>\n",
              "      <td>f</td>\n",
              "      <td>f</td>\n",
              "      <td>EUT</td>\n",
              "    </tr>\n",
              "    <tr>\n",
              "      <th>3</th>\n",
              "      <td>40</td>\n",
              "      <td>1.62</td>\n",
              "      <td>54.0</td>\n",
              "      <td>20.58</td>\n",
              "      <td>31</td>\n",
              "      <td>continuous</td>\n",
              "      <td>secondary</td>\n",
              "      <td>f</td>\n",
              "      <td>f</td>\n",
              "      <td>f</td>\n",
              "      <td>EUT</td>\n",
              "    </tr>\n",
              "    <tr>\n",
              "      <th>4</th>\n",
              "      <td>41</td>\n",
              "      <td>1.47</td>\n",
              "      <td>51.0</td>\n",
              "      <td>23.60</td>\n",
              "      <td>28</td>\n",
              "      <td>continuous</td>\n",
              "      <td>secondary</td>\n",
              "      <td>f</td>\n",
              "      <td>f</td>\n",
              "      <td>f</td>\n",
              "      <td>EUT</td>\n",
              "    </tr>\n",
              "    <tr>\n",
              "      <th>...</th>\n",
              "      <td>...</td>\n",
              "      <td>...</td>\n",
              "      <td>...</td>\n",
              "      <td>...</td>\n",
              "      <td>...</td>\n",
              "      <td>...</td>\n",
              "      <td>...</td>\n",
              "      <td>...</td>\n",
              "      <td>...</td>\n",
              "      <td>...</td>\n",
              "      <td>...</td>\n",
              "    </tr>\n",
              "    <tr>\n",
              "      <th>6152</th>\n",
              "      <td>35</td>\n",
              "      <td>1.56</td>\n",
              "      <td>49.0</td>\n",
              "      <td>20.00</td>\n",
              "      <td>35</td>\n",
              "      <td>continuous</td>\n",
              "      <td>secondary</td>\n",
              "      <td>f</td>\n",
              "      <td>f</td>\n",
              "      <td>f</td>\n",
              "      <td>EUT</td>\n",
              "    </tr>\n",
              "    <tr>\n",
              "      <th>6153</th>\n",
              "      <td>40</td>\n",
              "      <td>1.64</td>\n",
              "      <td>59.0</td>\n",
              "      <td>21.51</td>\n",
              "      <td>29</td>\n",
              "      <td>continuous</td>\n",
              "      <td>secondary</td>\n",
              "      <td>f</td>\n",
              "      <td>f</td>\n",
              "      <td>f</td>\n",
              "      <td>EUT</td>\n",
              "    </tr>\n",
              "    <tr>\n",
              "      <th>6154</th>\n",
              "      <td>39</td>\n",
              "      <td>1.59</td>\n",
              "      <td>64.0</td>\n",
              "      <td>20.00</td>\n",
              "      <td>39</td>\n",
              "      <td>discontinuous</td>\n",
              "      <td>secondary</td>\n",
              "      <td>f</td>\n",
              "      <td>f</td>\n",
              "      <td>t</td>\n",
              "      <td>EUT</td>\n",
              "    </tr>\n",
              "    <tr>\n",
              "      <th>6155</th>\n",
              "      <td>39</td>\n",
              "      <td>1.48</td>\n",
              "      <td>50.0</td>\n",
              "      <td>23.28</td>\n",
              "      <td>41</td>\n",
              "      <td>continuous</td>\n",
              "      <td>primary</td>\n",
              "      <td>f</td>\n",
              "      <td>f</td>\n",
              "      <td>f</td>\n",
              "      <td>emergencyc-section</td>\n",
              "    </tr>\n",
              "    <tr>\n",
              "      <th>6156</th>\n",
              "      <td>38</td>\n",
              "      <td>1.65</td>\n",
              "      <td>75.2</td>\n",
              "      <td>24.00</td>\n",
              "      <td>32</td>\n",
              "      <td>discontinuous</td>\n",
              "      <td>Sinestudios</td>\n",
              "      <td>f</td>\n",
              "      <td>f</td>\n",
              "      <td>f</td>\n",
              "      <td>EUT</td>\n",
              "    </tr>\n",
              "  </tbody>\n",
              "</table>\n",
              "<p>6102 rows × 11 columns</p>\n",
              "</div>\n",
              "      <button class=\"colab-df-convert\" onclick=\"convertToInteractive('df-53e76724-e7ba-498b-bd66-f70c6fef3edd')\"\n",
              "              title=\"Convert this dataframe to an interactive table.\"\n",
              "              style=\"display:none;\">\n",
              "        \n",
              "  <svg xmlns=\"http://www.w3.org/2000/svg\" height=\"24px\"viewBox=\"0 0 24 24\"\n",
              "       width=\"24px\">\n",
              "    <path d=\"M0 0h24v24H0V0z\" fill=\"none\"/>\n",
              "    <path d=\"M18.56 5.44l.94 2.06.94-2.06 2.06-.94-2.06-.94-.94-2.06-.94 2.06-2.06.94zm-11 1L8.5 8.5l.94-2.06 2.06-.94-2.06-.94L8.5 2.5l-.94 2.06-2.06.94zm10 10l.94 2.06.94-2.06 2.06-.94-2.06-.94-.94-2.06-.94 2.06-2.06.94z\"/><path d=\"M17.41 7.96l-1.37-1.37c-.4-.4-.92-.59-1.43-.59-.52 0-1.04.2-1.43.59L10.3 9.45l-7.72 7.72c-.78.78-.78 2.05 0 2.83L4 21.41c.39.39.9.59 1.41.59.51 0 1.02-.2 1.41-.59l7.78-7.78 2.81-2.81c.8-.78.8-2.07 0-2.86zM5.41 20L4 18.59l7.72-7.72 1.47 1.35L5.41 20z\"/>\n",
              "  </svg>\n",
              "      </button>\n",
              "      \n",
              "  <style>\n",
              "    .colab-df-container {\n",
              "      display:flex;\n",
              "      flex-wrap:wrap;\n",
              "      gap: 12px;\n",
              "    }\n",
              "\n",
              "    .colab-df-convert {\n",
              "      background-color: #E8F0FE;\n",
              "      border: none;\n",
              "      border-radius: 50%;\n",
              "      cursor: pointer;\n",
              "      display: none;\n",
              "      fill: #1967D2;\n",
              "      height: 32px;\n",
              "      padding: 0 0 0 0;\n",
              "      width: 32px;\n",
              "    }\n",
              "\n",
              "    .colab-df-convert:hover {\n",
              "      background-color: #E2EBFA;\n",
              "      box-shadow: 0px 1px 2px rgba(60, 64, 67, 0.3), 0px 1px 3px 1px rgba(60, 64, 67, 0.15);\n",
              "      fill: #174EA6;\n",
              "    }\n",
              "\n",
              "    [theme=dark] .colab-df-convert {\n",
              "      background-color: #3B4455;\n",
              "      fill: #D2E3FC;\n",
              "    }\n",
              "\n",
              "    [theme=dark] .colab-df-convert:hover {\n",
              "      background-color: #434B5C;\n",
              "      box-shadow: 0px 1px 3px 1px rgba(0, 0, 0, 0.15);\n",
              "      filter: drop-shadow(0px 1px 2px rgba(0, 0, 0, 0.3));\n",
              "      fill: #FFFFFF;\n",
              "    }\n",
              "  </style>\n",
              "\n",
              "      <script>\n",
              "        const buttonEl =\n",
              "          document.querySelector('#df-53e76724-e7ba-498b-bd66-f70c6fef3edd button.colab-df-convert');\n",
              "        buttonEl.style.display =\n",
              "          google.colab.kernel.accessAllowed ? 'block' : 'none';\n",
              "\n",
              "        async function convertToInteractive(key) {\n",
              "          const element = document.querySelector('#df-53e76724-e7ba-498b-bd66-f70c6fef3edd');\n",
              "          const dataTable =\n",
              "            await google.colab.kernel.invokeFunction('convertToInteractive',\n",
              "                                                     [key], {});\n",
              "          if (!dataTable) return;\n",
              "\n",
              "          const docLinkHtml = 'Like what you see? Visit the ' +\n",
              "            '<a target=\"_blank\" href=https://colab.research.google.com/notebooks/data_table.ipynb>data table notebook</a>'\n",
              "            + ' to learn more about interactive tables.';\n",
              "          element.innerHTML = '';\n",
              "          dataTable['output_type'] = 'display_data';\n",
              "          await google.colab.output.renderOutput(dataTable, element);\n",
              "          const docLink = document.createElement('div');\n",
              "          docLink.innerHTML = docLinkHtml;\n",
              "          element.appendChild(docLink);\n",
              "        }\n",
              "      </script>\n",
              "    </div>\n",
              "  </div>\n",
              "  "
            ]
          },
          "metadata": {},
          "execution_count": 25
        }
      ],
      "source": [
        "l_df"
      ]
    },
    {
      "cell_type": "code",
      "execution_count": null,
      "metadata": {
        "id": "A8lAOu7fIeet"
      },
      "outputs": [],
      "source": [
        "from sklearn import preprocessing\n",
        "le = preprocessing.LabelEncoder()\n",
        "\n",
        "#l_df.Publisher = l_df.Publisher.astype(str)\n",
        "\n",
        "for column in l_df.columns:\n",
        "    temp_new = le.fit_transform(l_df[column].astype('category'))\n",
        "    l_df.drop(labels=[column], axis=\"columns\", inplace=True)\n",
        "    l_df[column] = temp_new\n",
        "\n",
        "X = l_df.loc[:,'GESTAGIONALAGE':'ALCOHOL']\n",
        "Y = l_df.loc[:,'TYPEOFBIRTH':]"
      ]
    },
    {
      "cell_type": "code",
      "execution_count": null,
      "metadata": {
        "colab": {
          "base_uri": "https://localhost:8080/"
        },
        "id": "HWALFUOsiUIo",
        "outputId": "0eb93aab-cf53-422d-8df8-a69e050c934c"
      },
      "outputs": [
        {
          "output_type": "stream",
          "name": "stdout",
          "text": [
            "(29416, 10)\n",
            "(29416, 1)\n"
          ]
        }
      ],
      "source": [
        "from imblearn.over_sampling import ADASYN \n",
        "sm = ADASYN(sampling_strategy='auto', random_state=None, n_neighbors=5, n_jobs=1)\n",
        "X_adassin_1, Y_adassin_1 = sm.fit_resample(X, Y)\n",
        "print(X_adassin_1.shape)\n",
        "print(Y_adassin_1.shape)"
      ]
    },
    {
      "cell_type": "code",
      "execution_count": null,
      "metadata": {
        "id": "SXht3cDzknda"
      },
      "outputs": [],
      "source": [
        "from sklearn.model_selection import train_test_split\n",
        "X_train, X_test, Y_train, Y_test = train_test_split(X_adassin_1,Y_adassin_1,test_size=0.2,random_state=None)"
      ]
    },
    {
      "cell_type": "code",
      "execution_count": null,
      "metadata": {
        "colab": {
          "base_uri": "https://localhost:8080/"
        },
        "id": "9eWxH238Ng91",
        "outputId": "33c7c52e-9dce-4cf6-8e28-c1b20f57ab57"
      },
      "outputs": [
        {
          "output_type": "stream",
          "name": "stdout",
          "text": [
            "<class 'pandas.core.frame.DataFrame'>\n",
            "Int64Index: 23532 entries, 4997 to 21236\n",
            "Data columns (total 10 columns):\n",
            " #   Column             Non-Null Count  Dtype\n",
            "---  ------             --------------  -----\n",
            " 0   GESTAGIONALAGE     23532 non-null  int64\n",
            " 1   HEIGHT             23532 non-null  int64\n",
            " 2   WEIGHT             23532 non-null  int64\n",
            " 3   BMI                23532 non-null  int64\n",
            " 4   AGE                23532 non-null  int64\n",
            " 5   CARDIOTOCOGRAPHY   23532 non-null  int64\n",
            " 6   MATERNALEDUCATION  23532 non-null  int64\n",
            " 7   SUBSTANCEABUSE     23532 non-null  int64\n",
            " 8   SMOKING            23532 non-null  int64\n",
            " 9   ALCOHOL            23532 non-null  int64\n",
            "dtypes: int64(10)\n",
            "memory usage: 2.0 MB\n"
          ]
        }
      ],
      "source": [
        "X_train.info()"
      ]
    },
    {
      "cell_type": "code",
      "execution_count": null,
      "metadata": {
        "colab": {
          "base_uri": "https://localhost:8080/"
        },
        "id": "ULucsU0INht1",
        "outputId": "c52036c6-67b3-4345-b670-341613c63dc8"
      },
      "outputs": [
        {
          "output_type": "stream",
          "name": "stdout",
          "text": [
            "<class 'pandas.core.frame.DataFrame'>\n",
            "Int64Index: 23532 entries, 4997 to 21236\n",
            "Data columns (total 1 columns):\n",
            " #   Column       Non-Null Count  Dtype\n",
            "---  ------       --------------  -----\n",
            " 0   TYPEOFBIRTH  23532 non-null  int64\n",
            "dtypes: int64(1)\n",
            "memory usage: 367.7 KB\n"
          ]
        }
      ],
      "source": [
        "Y_train.info()"
      ]
    },
    {
      "cell_type": "code",
      "execution_count": null,
      "metadata": {
        "colab": {
          "base_uri": "https://localhost:8080/"
        },
        "id": "Vk0H7VYwNkyH",
        "outputId": "0d08b8a0-ce09-47a6-9aea-55c65440361e"
      },
      "outputs": [
        {
          "output_type": "stream",
          "name": "stdout",
          "text": [
            "<class 'pandas.core.frame.DataFrame'>\n",
            "Int64Index: 5884 entries, 24381 to 5200\n",
            "Data columns (total 10 columns):\n",
            " #   Column             Non-Null Count  Dtype\n",
            "---  ------             --------------  -----\n",
            " 0   GESTAGIONALAGE     5884 non-null   int64\n",
            " 1   HEIGHT             5884 non-null   int64\n",
            " 2   WEIGHT             5884 non-null   int64\n",
            " 3   BMI                5884 non-null   int64\n",
            " 4   AGE                5884 non-null   int64\n",
            " 5   CARDIOTOCOGRAPHY   5884 non-null   int64\n",
            " 6   MATERNALEDUCATION  5884 non-null   int64\n",
            " 7   SUBSTANCEABUSE     5884 non-null   int64\n",
            " 8   SMOKING            5884 non-null   int64\n",
            " 9   ALCOHOL            5884 non-null   int64\n",
            "dtypes: int64(10)\n",
            "memory usage: 505.7 KB\n"
          ]
        }
      ],
      "source": [
        "X_test.info()"
      ]
    },
    {
      "cell_type": "code",
      "execution_count": null,
      "metadata": {
        "colab": {
          "base_uri": "https://localhost:8080/"
        },
        "id": "Cmy8-ksjNmns",
        "outputId": "b4070691-3f36-426f-89f2-19b1d6aba0a4"
      },
      "outputs": [
        {
          "output_type": "stream",
          "name": "stdout",
          "text": [
            "<class 'pandas.core.frame.DataFrame'>\n",
            "Int64Index: 5884 entries, 24381 to 5200\n",
            "Data columns (total 1 columns):\n",
            " #   Column       Non-Null Count  Dtype\n",
            "---  ------       --------------  -----\n",
            " 0   TYPEOFBIRTH  5884 non-null   int64\n",
            "dtypes: int64(1)\n",
            "memory usage: 91.9 KB\n"
          ]
        }
      ],
      "source": [
        "Y_test.info()"
      ]
    },
    {
      "cell_type": "code",
      "execution_count": null,
      "metadata": {
        "colab": {
          "base_uri": "https://localhost:8080/"
        },
        "id": "pZRBCv1bNvfd",
        "outputId": "29aca19d-f2f1-433f-eb26-58f937f52790"
      },
      "outputs": [
        {
          "output_type": "stream",
          "name": "stdout",
          "text": [
            "0.7962270564242012\n",
            "0.7895818078023651\n",
            "0.7962270564242012\n",
            "0.7962270564242012\n"
          ]
        },
        {
          "output_type": "stream",
          "name": "stderr",
          "text": [
            "/usr/local/lib/python3.7/dist-packages/sklearn/metrics/_classification.py:1375: UserWarning: Note that pos_label (set to 'positive') is ignored when average != 'binary' (got 'weighted'). You may use labels=[pos_label] to specify a single positive class.\n",
            "  UserWarning,\n",
            "/usr/local/lib/python3.7/dist-packages/sklearn/metrics/_classification.py:1375: UserWarning: Note that pos_label (set to 'positive') is ignored when average != 'binary' (got 'micro'). You may use labels=[pos_label] to specify a single positive class.\n",
            "  UserWarning,\n"
          ]
        }
      ],
      "source": [
        "from sklearn.tree import DecisionTreeClassifier\n",
        "from sklearn.metrics import accuracy_score\n",
        "from sklearn.metrics import precision_score\n",
        "from sklearn.metrics import recall_score\n",
        "from sklearn.metrics import f1_score\n",
        "model = DecisionTreeClassifier(criterion = 'entropy')\n",
        "model.fit(X_train,Y_train)\n",
        "y_pred = model.predict(X_test)\n",
        "print(accuracy_score(Y_test,y_pred))\n",
        "print(precision_score(Y_test,y_pred,pos_label='positive',average='weighted'))\n",
        "print(recall_score(Y_test,y_pred,pos_label='positive',average='micro'))\n",
        "print(f1_score(Y_test, y_pred,average='micro'))"
      ]
    },
    {
      "cell_type": "code",
      "execution_count": null,
      "metadata": {
        "colab": {
          "base_uri": "https://localhost:8080/"
        },
        "id": "ZbPqpp8Euo9k",
        "outputId": "fcaf344e-32c7-45eb-cdd1-2a354a51133a"
      },
      "outputs": [
        {
          "output_type": "stream",
          "name": "stdout",
          "text": [
            "0.8577498300475866\n",
            "0.8529292836479474\n",
            "0.8577498300475866\n",
            "0.8577498300475865\n"
          ]
        },
        {
          "output_type": "stream",
          "name": "stderr",
          "text": [
            "/usr/local/lib/python3.7/dist-packages/sklearn/metrics/_classification.py:1375: UserWarning: Note that pos_label (set to 'positive') is ignored when average != 'binary' (got 'weighted'). You may use labels=[pos_label] to specify a single positive class.\n",
            "  UserWarning,\n",
            "/usr/local/lib/python3.7/dist-packages/sklearn/metrics/_classification.py:1375: UserWarning: Note that pos_label (set to 'positive') is ignored when average != 'binary' (got 'micro'). You may use labels=[pos_label] to specify a single positive class.\n",
            "  UserWarning,\n"
          ]
        }
      ],
      "source": [
        "from sklearn.ensemble import RandomForestClassifier\n",
        "RFC = RandomForestClassifier()\n",
        "RFC.fit(X_train, Y_train.values.ravel())\n",
        "y_pred = RFC.predict(X_test)\n",
        "print(accuracy_score(Y_test,y_pred))\n",
        "print(precision_score(Y_test,y_pred,pos_label='positive',average='weighted'))\n",
        "print(recall_score(Y_test,y_pred,pos_label='positive',average='micro'))\n",
        "print(f1_score(Y_test, y_pred,average='micro'))"
      ]
    },
    {
      "cell_type": "code",
      "execution_count": null,
      "metadata": {
        "colab": {
          "base_uri": "https://localhost:8080/"
        },
        "id": "avOrBabDcxZm",
        "outputId": "ac7824cd-2462-4b0b-f3b1-3d4ff93143cb"
      },
      "outputs": [
        {
          "output_type": "stream",
          "name": "stdout",
          "text": [
            "0.8557104010876955\n",
            "0.8500055718217643\n",
            "0.8557104010876955\n",
            "0.8557104010876955\n"
          ]
        },
        {
          "output_type": "stream",
          "name": "stderr",
          "text": [
            "/usr/local/lib/python3.7/dist-packages/sklearn/metrics/_classification.py:1375: UserWarning: Note that pos_label (set to 'positive') is ignored when average != 'binary' (got 'weighted'). You may use labels=[pos_label] to specify a single positive class.\n",
            "  UserWarning,\n",
            "/usr/local/lib/python3.7/dist-packages/sklearn/metrics/_classification.py:1375: UserWarning: Note that pos_label (set to 'positive') is ignored when average != 'binary' (got 'micro'). You may use labels=[pos_label] to specify a single positive class.\n",
            "  UserWarning,\n"
          ]
        }
      ],
      "source": [
        "from sklearn.svm import SVC\n",
        "from sklearn.model_selection import cross_val_score\n",
        "svc = SVC(gamma = 0.001, C = 1000)\n",
        "y_pred = svc.fit(X_train, Y_train.values.ravel()).predict(X_test)\n",
        "print(accuracy_score(Y_test,y_pred))\n",
        "print(precision_score(Y_test,y_pred,pos_label='positive',average='weighted'))\n",
        "print(recall_score(Y_test,y_pred,pos_label='positive',average='micro'))\n",
        "print(f1_score(Y_test, y_pred,average='micro'))"
      ]
    },
    {
      "cell_type": "code",
      "execution_count": null,
      "metadata": {
        "colab": {
          "base_uri": "https://localhost:8080/"
        },
        "id": "RSZ7A5TzPVJE",
        "outputId": "fda2b7d3-ee64-4181-c924-cd1d25b88c7d"
      },
      "outputs": [
        {
          "output_type": "stream",
          "name": "stdout",
          "text": [
            "2 : [0.9093574706782254, 0.7449014276002719]\n",
            "3 : [0.8709416964133945, 0.7425220938137321]\n",
            "4 : [0.8369454360020397, 0.7214479945615228]\n",
            "5 : [0.8136579976202618, 0.707681849082257]\n",
            "6 : [0.7909229984701683, 0.6889870836165873]\n",
            "7 : [0.7729899711031787, 0.6776002719238613]\n",
            "8 : [0.7537820839707632, 0.6602651257647859]\n",
            "9 : [0.7378463369029407, 0.650917743031951]\n",
            "10 : [0.721655617882033, 0.6451393609789259]\n",
            "11 : [0.7094594594594594, 0.6337525492861998]\n",
            "12 : [0.6959884412714601, 0.6238953093133922]\n",
            "13 : [0.6861295257521672, 0.6101291638341264]\n",
            "14 : [0.6744433112357641, 0.6070700203942896]\n",
            "15 : [0.6664966853646099, 0.5985723997280762]\n",
            "16 : [0.6586775454699983, 0.5914343983684568]\n",
            "17 : [0.6499660037395887, 0.5873555404486743]\n",
            "18 : [0.6436342002379738, 0.5829367777022434]\n",
            "19 : [0.63619751827299, 0.5730795377294358]\n",
            "20 : [0.6302481727010029, 0.5693405846363019]\n"
          ]
        }
      ],
      "source": [
        "from sklearn.neighbors import KNeighborsClassifier\n",
        "K = []\n",
        "training = []\n",
        "test = []\n",
        "scores = {}\n",
        "  \n",
        "for k in range(2, 21):\n",
        "    clf = KNeighborsClassifier(n_neighbors = k)\n",
        "    clf.fit(X_train, Y_train.values.ravel())\n",
        "  \n",
        "    training_score = clf.score(X_train, Y_train)\n",
        "    test_score = clf.score(X_test, Y_test)\n",
        "    K.append(k)\n",
        "  \n",
        "    training.append(training_score)\n",
        "    test.append(test_score)\n",
        "    scores[k] = [training_score, test_score]\n",
        "for keys, values in scores.items():\n",
        "    print(keys, ':', values)"
      ]
    },
    {
      "cell_type": "code",
      "execution_count": null,
      "metadata": {
        "colab": {
          "base_uri": "https://localhost:8080/"
        },
        "id": "XEpjlPHBj1pp",
        "outputId": "15adce8b-e779-4bd8-f3ff-66b34c01d4eb"
      },
      "outputs": [
        {
          "output_type": "stream",
          "name": "stdout",
          "text": [
            "0.8280081577158396\n",
            "0.821335340157997\n",
            "0.8280081577158396\n",
            "0.8280081577158396\n"
          ]
        },
        {
          "output_type": "stream",
          "name": "stderr",
          "text": [
            "/usr/local/lib/python3.7/dist-packages/sklearn/metrics/_classification.py:1375: UserWarning: Note that pos_label (set to 'positive') is ignored when average != 'binary' (got 'weighted'). You may use labels=[pos_label] to specify a single positive class.\n",
            "  UserWarning,\n",
            "/usr/local/lib/python3.7/dist-packages/sklearn/metrics/_classification.py:1375: UserWarning: Note that pos_label (set to 'positive') is ignored when average != 'binary' (got 'micro'). You may use labels=[pos_label] to specify a single positive class.\n",
            "  UserWarning,\n"
          ]
        }
      ],
      "source": [
        "from sklearn.neighbors import KNeighborsClassifier\n",
        "model = KNeighborsClassifier(n_neighbors=2,weights='distance',p=1)\n",
        "model.fit(X_train,Y_train.values.ravel())\n",
        "y_pred = model.predict(X_test)\n",
        "print(accuracy_score(Y_test,y_pred))\n",
        "print(precision_score(Y_test,y_pred,pos_label='positive',average='weighted'))\n",
        "print(recall_score(Y_test,y_pred,pos_label='positive',average='micro'))\n",
        "print(f1_score(Y_test, y_pred,average='micro'))"
      ]
    },
    {
      "cell_type": "code",
      "execution_count": null,
      "metadata": {
        "colab": {
          "base_uri": "https://localhost:8080/"
        },
        "id": "i20fjgfBSB3t",
        "outputId": "5e7a8f51-1620-467a-aca9-6003477853fc"
      },
      "outputs": [
        {
          "output_type": "stream",
          "name": "stderr",
          "text": [
            "/usr/local/lib/python3.7/dist-packages/sklearn/svm/_base.py:1208: ConvergenceWarning: Liblinear failed to converge, increase the number of iterations.\n",
            "  ConvergenceWarning,\n",
            "/usr/local/lib/python3.7/dist-packages/sklearn/svm/_base.py:1208: ConvergenceWarning: Liblinear failed to converge, increase the number of iterations.\n",
            "  ConvergenceWarning,\n",
            "/usr/local/lib/python3.7/dist-packages/sklearn/svm/_base.py:1208: ConvergenceWarning: Liblinear failed to converge, increase the number of iterations.\n",
            "  ConvergenceWarning,\n",
            "/usr/local/lib/python3.7/dist-packages/sklearn/svm/_base.py:1208: ConvergenceWarning: Liblinear failed to converge, increase the number of iterations.\n",
            "  ConvergenceWarning,\n",
            "/usr/local/lib/python3.7/dist-packages/sklearn/svm/_base.py:1208: ConvergenceWarning: Liblinear failed to converge, increase the number of iterations.\n",
            "  ConvergenceWarning,\n",
            "/usr/local/lib/python3.7/dist-packages/sklearn/svm/_base.py:1208: ConvergenceWarning: Liblinear failed to converge, increase the number of iterations.\n",
            "  ConvergenceWarning,\n",
            "/usr/local/lib/python3.7/dist-packages/sklearn/linear_model/_logistic.py:818: ConvergenceWarning: lbfgs failed to converge (status=1):\n",
            "STOP: TOTAL NO. of ITERATIONS REACHED LIMIT.\n",
            "\n",
            "Increase the number of iterations (max_iter) or scale the data as shown in:\n",
            "    https://scikit-learn.org/stable/modules/preprocessing.html\n",
            "Please also refer to the documentation for alternative solver options:\n",
            "    https://scikit-learn.org/stable/modules/linear_model.html#logistic-regression\n",
            "  extra_warning_msg=_LOGISTIC_SOLVER_CONVERGENCE_MSG,\n"
          ]
        },
        {
          "output_type": "stream",
          "name": "stdout",
          "text": [
            "0.8810333106730116\n",
            "0.8819144408840449\n",
            "0.8810333106730116\n",
            "0.8810333106730116\n"
          ]
        },
        {
          "output_type": "stream",
          "name": "stderr",
          "text": [
            "/usr/local/lib/python3.7/dist-packages/sklearn/metrics/_classification.py:1375: UserWarning: Note that pos_label (set to 'positive') is ignored when average != 'binary' (got 'weighted'). You may use labels=[pos_label] to specify a single positive class.\n",
            "  UserWarning,\n",
            "/usr/local/lib/python3.7/dist-packages/sklearn/metrics/_classification.py:1375: UserWarning: Note that pos_label (set to 'positive') is ignored when average != 'binary' (got 'micro'). You may use labels=[pos_label] to specify a single positive class.\n",
            "  UserWarning,\n"
          ]
        }
      ],
      "source": [
        "from sklearn.svm import LinearSVC\n",
        "from sklearn.linear_model import LogisticRegression\n",
        "from sklearn.preprocessing import StandardScaler\n",
        "from sklearn.pipeline import make_pipeline\n",
        "from sklearn.ensemble import StackingClassifier\n",
        "estimators = [('rf', RandomForestClassifier()),('svr', make_pipeline(StandardScaler(),LinearSVC())),('dt',DecisionTreeClassifier(criterion = 'entropy')),('knn',KNeighborsClassifier(n_neighbors=2,weights='distance',p=1))]\n",
        "clf = StackingClassifier(estimators=estimators, final_estimator=LogisticRegression())\n",
        "clf.fit(X_train, Y_train.values.ravel())\n",
        "y_pred = clf.predict(X_test)\n",
        "print(accuracy_score(Y_test,y_pred))\n",
        "print(precision_score(Y_test,y_pred,pos_label='positive',average='weighted'))\n",
        "print(recall_score(Y_test,y_pred,pos_label='positive',average='micro'))\n",
        "print(f1_score(Y_test, y_pred,average='micro'))"
      ]
    }
  ],
  "metadata": {
    "colab": {
      "collapsed_sections": [
        "BS4T0vdSY12S"
      ],
      "provenance": []
    },
    "kernelspec": {
      "display_name": "Python 3.10.2 64-bit",
      "language": "python",
      "name": "python3"
    },
    "language_info": {
      "name": "python",
      "version": "3.10.2"
    },
    "vscode": {
      "interpreter": {
        "hash": "e32045ddb3d14b68a33afad2fec9470788110109c3098af8d44358290efbefe5"
      }
    },
    "accelerator": "GPU"
  },
  "nbformat": 4,
  "nbformat_minor": 0
}